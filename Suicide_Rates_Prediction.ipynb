{
 "cells": [
  {
   "cell_type": "markdown",
   "metadata": {},
   "source": [
    "# Ettom.Srinija - 221710310015"
   ]
  },
  {
   "cell_type": "markdown",
   "metadata": {},
   "source": [
    "# Suicide Rates Prediction:"
   ]
  },
  {
   "cell_type": "markdown",
   "metadata": {},
   "source": [
    "## PROBLEM STATEMENT:\n",
    "To Predict the Rate of suicides using various Machine Learning Algorithms Using various factors such as a person’s age, sex, Generation also based on the country’s population.  \n"
   ]
  },
  {
   "cell_type": "markdown",
   "metadata": {},
   "source": [
    "## DATA SET DESCRIPTION: \n",
    "The given data set consists of the following parameters:\n",
    "1.\tCountry\n",
    "2.\tYear\n",
    "3.\tSex: Gender\n",
    "4.\tAge: Range (Ex:15-24 years)\n",
    "5.\tSuicides_no: Number of Suicides committed\n",
    "6.\tPopulation\n",
    "7.\tSuicides_hk: Sucicides per 100k population\n",
    "8.\tGeneration: (Ex: Silent, Boomers)\n"
   ]
  },
  {
   "cell_type": "markdown",
   "metadata": {},
   "source": [
    "### Importing Packages:"
   ]
  },
  {
   "cell_type": "code",
   "execution_count": 1,
   "metadata": {},
   "outputs": [],
   "source": [
    "import numpy as np\n",
    "import pandas as pd\n",
    "import seaborn as sns\n",
    "import matplotlib.pyplot as plt\n",
    "%matplotlib inline\n",
    "import sklearn\n",
    "import matplotlib\n",
    "import missingno as msno\n",
    "from sklearn.preprocessing import LabelEncoder\n",
    "from sklearn.model_selection import train_test_split\n",
    "from sklearn import metrics\n",
    "from sklearn.linear_model import LinearRegression\n",
    "from sklearn.preprocessing import StandardScaler\n",
    "from sklearn.neighbors import KNeighborsRegressor\n",
    "from sklearn.metrics import r2_score,mean_absolute_error,mean_squared_error\n",
    "from sklearn.ensemble import RandomForestRegressor"
   ]
  },
  {
   "cell_type": "markdown",
   "metadata": {},
   "source": [
    "### Checking Versions of the Packages:"
   ]
  },
  {
   "cell_type": "code",
   "execution_count": 2,
   "metadata": {},
   "outputs": [
    {
     "name": "stdout",
     "output_type": "stream",
     "text": [
      "1.17.2\n",
      "0.25.1\n",
      "0.9.0\n",
      "0.21.3\n",
      "3.2.2\n",
      "0.4.2\n"
     ]
    }
   ],
   "source": [
    "print(np.__version__)  #numpy\n",
    "print(pd.__version__)  #pandas\n",
    "print(sns.__version__)  #seaborn\n",
    "print(sklearn.__version__) #sklearn\n",
    "print(matplotlib.__version__)  #matplotlib\n",
    "print(msno.__version__) #missingno"
   ]
  },
  {
   "cell_type": "markdown",
   "metadata": {},
   "source": [
    "### Reading the Dataset:"
   ]
  },
  {
   "cell_type": "code",
   "execution_count": 3,
   "metadata": {},
   "outputs": [
    {
     "data": {
      "text/html": [
       "<div>\n",
       "<style scoped>\n",
       "    .dataframe tbody tr th:only-of-type {\n",
       "        vertical-align: middle;\n",
       "    }\n",
       "\n",
       "    .dataframe tbody tr th {\n",
       "        vertical-align: top;\n",
       "    }\n",
       "\n",
       "    .dataframe thead th {\n",
       "        text-align: right;\n",
       "    }\n",
       "</style>\n",
       "<table border=\"1\" class=\"dataframe\">\n",
       "  <thead>\n",
       "    <tr style=\"text-align: right;\">\n",
       "      <th></th>\n",
       "      <th>country</th>\n",
       "      <th>year</th>\n",
       "      <th>sex</th>\n",
       "      <th>age</th>\n",
       "      <th>suicides_no</th>\n",
       "      <th>population</th>\n",
       "      <th>suicides_hk</th>\n",
       "      <th>generation</th>\n",
       "    </tr>\n",
       "  </thead>\n",
       "  <tbody>\n",
       "    <tr>\n",
       "      <td>0</td>\n",
       "      <td>Albania</td>\n",
       "      <td>1987</td>\n",
       "      <td>male</td>\n",
       "      <td>15-24 years</td>\n",
       "      <td>21</td>\n",
       "      <td>312900</td>\n",
       "      <td>6.71</td>\n",
       "      <td>Generation X</td>\n",
       "    </tr>\n",
       "    <tr>\n",
       "      <td>1</td>\n",
       "      <td>Albania</td>\n",
       "      <td>1987</td>\n",
       "      <td>male</td>\n",
       "      <td>35-54 years</td>\n",
       "      <td>16</td>\n",
       "      <td>308000</td>\n",
       "      <td>5.19</td>\n",
       "      <td>Silent</td>\n",
       "    </tr>\n",
       "    <tr>\n",
       "      <td>2</td>\n",
       "      <td>Albania</td>\n",
       "      <td>1987</td>\n",
       "      <td>female</td>\n",
       "      <td>15-24 years</td>\n",
       "      <td>14</td>\n",
       "      <td>289700</td>\n",
       "      <td>4.83</td>\n",
       "      <td>Generation X</td>\n",
       "    </tr>\n",
       "    <tr>\n",
       "      <td>3</td>\n",
       "      <td>Albania</td>\n",
       "      <td>1987</td>\n",
       "      <td>male</td>\n",
       "      <td>75+ years</td>\n",
       "      <td>1</td>\n",
       "      <td>21800</td>\n",
       "      <td>4.59</td>\n",
       "      <td>G.I. Generation</td>\n",
       "    </tr>\n",
       "    <tr>\n",
       "      <td>4</td>\n",
       "      <td>Albania</td>\n",
       "      <td>1987</td>\n",
       "      <td>male</td>\n",
       "      <td>25-34 years</td>\n",
       "      <td>9</td>\n",
       "      <td>274300</td>\n",
       "      <td>3.28</td>\n",
       "      <td>Boomers</td>\n",
       "    </tr>\n",
       "    <tr>\n",
       "      <td>5</td>\n",
       "      <td>Albania</td>\n",
       "      <td>1987</td>\n",
       "      <td>female</td>\n",
       "      <td>75+ years</td>\n",
       "      <td>1</td>\n",
       "      <td>35600</td>\n",
       "      <td>2.81</td>\n",
       "      <td>G.I. Generation</td>\n",
       "    </tr>\n",
       "    <tr>\n",
       "      <td>6</td>\n",
       "      <td>Albania</td>\n",
       "      <td>1987</td>\n",
       "      <td>female</td>\n",
       "      <td>35-54 years</td>\n",
       "      <td>6</td>\n",
       "      <td>278800</td>\n",
       "      <td>2.15</td>\n",
       "      <td>Silent</td>\n",
       "    </tr>\n",
       "    <tr>\n",
       "      <td>7</td>\n",
       "      <td>Albania</td>\n",
       "      <td>1987</td>\n",
       "      <td>female</td>\n",
       "      <td>25-34 years</td>\n",
       "      <td>4</td>\n",
       "      <td>257200</td>\n",
       "      <td>1.56</td>\n",
       "      <td>Boomers</td>\n",
       "    </tr>\n",
       "    <tr>\n",
       "      <td>8</td>\n",
       "      <td>Albania</td>\n",
       "      <td>1987</td>\n",
       "      <td>male</td>\n",
       "      <td>55-74 years</td>\n",
       "      <td>1</td>\n",
       "      <td>137500</td>\n",
       "      <td>0.73</td>\n",
       "      <td>G.I. Generation</td>\n",
       "    </tr>\n",
       "    <tr>\n",
       "      <td>9</td>\n",
       "      <td>Albania</td>\n",
       "      <td>1987</td>\n",
       "      <td>female</td>\n",
       "      <td>5-14 years</td>\n",
       "      <td>0</td>\n",
       "      <td>311000</td>\n",
       "      <td>0.00</td>\n",
       "      <td>Generation X</td>\n",
       "    </tr>\n",
       "  </tbody>\n",
       "</table>\n",
       "</div>"
      ],
      "text/plain": [
       "   country  year     sex          age  suicides_no  population  suicides_hk  \\\n",
       "0  Albania  1987    male  15-24 years           21      312900         6.71   \n",
       "1  Albania  1987    male  35-54 years           16      308000         5.19   \n",
       "2  Albania  1987  female  15-24 years           14      289700         4.83   \n",
       "3  Albania  1987    male    75+ years            1       21800         4.59   \n",
       "4  Albania  1987    male  25-34 years            9      274300         3.28   \n",
       "5  Albania  1987  female    75+ years            1       35600         2.81   \n",
       "6  Albania  1987  female  35-54 years            6      278800         2.15   \n",
       "7  Albania  1987  female  25-34 years            4      257200         1.56   \n",
       "8  Albania  1987    male  55-74 years            1      137500         0.73   \n",
       "9  Albania  1987  female   5-14 years            0      311000         0.00   \n",
       "\n",
       "        generation  \n",
       "0     Generation X  \n",
       "1           Silent  \n",
       "2     Generation X  \n",
       "3  G.I. Generation  \n",
       "4          Boomers  \n",
       "5  G.I. Generation  \n",
       "6           Silent  \n",
       "7          Boomers  \n",
       "8  G.I. Generation  \n",
       "9     Generation X  "
      ]
     },
     "execution_count": 3,
     "metadata": {},
     "output_type": "execute_result"
    }
   ],
   "source": [
    "df=pd.read_csv(\"master.csv\")\n",
    "df.head(10)"
   ]
  },
  {
   "cell_type": "markdown",
   "metadata": {},
   "source": [
    "### Data Visualization:"
   ]
  },
  {
   "cell_type": "code",
   "execution_count": 4,
   "metadata": {},
   "outputs": [
    {
     "data": {
      "text/plain": [
       "(27820, 8)"
      ]
     },
     "execution_count": 4,
     "metadata": {},
     "output_type": "execute_result"
    }
   ],
   "source": [
    "df.shape"
   ]
  },
  {
   "cell_type": "code",
   "execution_count": 5,
   "metadata": {},
   "outputs": [
    {
     "data": {
      "text/html": [
       "<div>\n",
       "<style scoped>\n",
       "    .dataframe tbody tr th:only-of-type {\n",
       "        vertical-align: middle;\n",
       "    }\n",
       "\n",
       "    .dataframe tbody tr th {\n",
       "        vertical-align: top;\n",
       "    }\n",
       "\n",
       "    .dataframe thead th {\n",
       "        text-align: right;\n",
       "    }\n",
       "</style>\n",
       "<table border=\"1\" class=\"dataframe\">\n",
       "  <thead>\n",
       "    <tr style=\"text-align: right;\">\n",
       "      <th></th>\n",
       "      <th>year</th>\n",
       "      <th>suicides_no</th>\n",
       "      <th>population</th>\n",
       "      <th>suicides_hk</th>\n",
       "    </tr>\n",
       "  </thead>\n",
       "  <tbody>\n",
       "    <tr>\n",
       "      <td>count</td>\n",
       "      <td>27820.000000</td>\n",
       "      <td>27820.000000</td>\n",
       "      <td>2.782000e+04</td>\n",
       "      <td>27820.000000</td>\n",
       "    </tr>\n",
       "    <tr>\n",
       "      <td>mean</td>\n",
       "      <td>2001.258375</td>\n",
       "      <td>242.574407</td>\n",
       "      <td>1.844794e+06</td>\n",
       "      <td>12.816097</td>\n",
       "    </tr>\n",
       "    <tr>\n",
       "      <td>std</td>\n",
       "      <td>8.469055</td>\n",
       "      <td>902.047917</td>\n",
       "      <td>3.911779e+06</td>\n",
       "      <td>18.961511</td>\n",
       "    </tr>\n",
       "    <tr>\n",
       "      <td>min</td>\n",
       "      <td>1985.000000</td>\n",
       "      <td>0.000000</td>\n",
       "      <td>2.780000e+02</td>\n",
       "      <td>0.000000</td>\n",
       "    </tr>\n",
       "    <tr>\n",
       "      <td>25%</td>\n",
       "      <td>1995.000000</td>\n",
       "      <td>3.000000</td>\n",
       "      <td>9.749850e+04</td>\n",
       "      <td>0.920000</td>\n",
       "    </tr>\n",
       "    <tr>\n",
       "      <td>50%</td>\n",
       "      <td>2002.000000</td>\n",
       "      <td>25.000000</td>\n",
       "      <td>4.301500e+05</td>\n",
       "      <td>5.990000</td>\n",
       "    </tr>\n",
       "    <tr>\n",
       "      <td>75%</td>\n",
       "      <td>2008.000000</td>\n",
       "      <td>131.000000</td>\n",
       "      <td>1.486143e+06</td>\n",
       "      <td>16.620000</td>\n",
       "    </tr>\n",
       "    <tr>\n",
       "      <td>max</td>\n",
       "      <td>2016.000000</td>\n",
       "      <td>22338.000000</td>\n",
       "      <td>4.380521e+07</td>\n",
       "      <td>224.970000</td>\n",
       "    </tr>\n",
       "  </tbody>\n",
       "</table>\n",
       "</div>"
      ],
      "text/plain": [
       "               year   suicides_no    population   suicides_hk\n",
       "count  27820.000000  27820.000000  2.782000e+04  27820.000000\n",
       "mean    2001.258375    242.574407  1.844794e+06     12.816097\n",
       "std        8.469055    902.047917  3.911779e+06     18.961511\n",
       "min     1985.000000      0.000000  2.780000e+02      0.000000\n",
       "25%     1995.000000      3.000000  9.749850e+04      0.920000\n",
       "50%     2002.000000     25.000000  4.301500e+05      5.990000\n",
       "75%     2008.000000    131.000000  1.486143e+06     16.620000\n",
       "max     2016.000000  22338.000000  4.380521e+07    224.970000"
      ]
     },
     "execution_count": 5,
     "metadata": {},
     "output_type": "execute_result"
    }
   ],
   "source": [
    "df.describe()"
   ]
  },
  {
   "cell_type": "code",
   "execution_count": 6,
   "metadata": {},
   "outputs": [
    {
     "name": "stdout",
     "output_type": "stream",
     "text": [
      "<class 'pandas.core.frame.DataFrame'>\n",
      "RangeIndex: 27820 entries, 0 to 27819\n",
      "Data columns (total 8 columns):\n",
      "country        27820 non-null object\n",
      "year           27820 non-null int64\n",
      "sex            27820 non-null object\n",
      "age            27820 non-null object\n",
      "suicides_no    27820 non-null int64\n",
      "population     27820 non-null int64\n",
      "suicides_hk    27820 non-null float64\n",
      "generation     27820 non-null object\n",
      "dtypes: float64(1), int64(3), object(4)\n",
      "memory usage: 1.7+ MB\n"
     ]
    }
   ],
   "source": [
    "df.info()"
   ]
  },
  {
   "cell_type": "code",
   "execution_count": 7,
   "metadata": {},
   "outputs": [
    {
     "data": {
      "text/plain": [
       "country        0\n",
       "year           0\n",
       "sex            0\n",
       "age            0\n",
       "suicides_no    0\n",
       "population     0\n",
       "suicides_hk    0\n",
       "generation     0\n",
       "dtype: int64"
      ]
     },
     "execution_count": 7,
     "metadata": {},
     "output_type": "execute_result"
    }
   ],
   "source": [
    "df.isnull().sum()"
   ]
  },
  {
   "cell_type": "code",
   "execution_count": 8,
   "metadata": {},
   "outputs": [
    {
     "data": {
      "text/plain": [
       "<matplotlib.axes._subplots.AxesSubplot at 0x1bac7528320>"
      ]
     },
     "execution_count": 8,
     "metadata": {},
     "output_type": "execute_result"
    },
    {
     "data": {
      "image/png": "[encoded data removed]",
      "text/plain": [
       "<Figure size 576x576 with 2 Axes>"
      ]
     },
     "metadata": {
      "needs_background": "light"
     },
     "output_type": "display_data"
    }
   ],
   "source": [
    "## visualizing the correlation\n",
    "plt.figure(figsize=(8,8))\n",
    "sns.heatmap(df.corr(),annot=True,cmap=\"YlGnBu\")"
   ]
  },
  {
   "cell_type": "code",
   "execution_count": 9,
   "metadata": {},
   "outputs": [
    {
     "data": {
      "text/plain": [
       "<matplotlib.axes._subplots.AxesSubplot at 0x1bac97eb0b8>"
      ]
     },
     "execution_count": 9,
     "metadata": {},
     "output_type": "execute_result"
    },
    {
     "data": {
      "image/png": "[encoded data removed]",
      "text/plain": [
       "<Figure size 576x576 with 2 Axes>"
      ]
     },
     "metadata": {
      "needs_background": "light"
     },
     "output_type": "display_data"
    }
   ],
   "source": [
    "plt.figure(figsize=(8,8))\n",
    "sns.heatmap(df.corr()[df.corr()>0.7],annot=True,cmap=\"YlGnBu\")"
   ]
  },
  {
   "cell_type": "code",
   "execution_count": 10,
   "metadata": {},
   "outputs": [
    {
     "data": {
      "text/plain": [
       "<matplotlib.axes._subplots.AxesSubplot at 0x1bac98b6748>"
      ]
     },
     "execution_count": 10,
     "metadata": {},
     "output_type": "execute_result"
    },
    {
     "data": {
      "image/png": "[encoded data removed]",
      "text/plain": [
       "<Figure size 432x288 with 2 Axes>"
      ]
     },
     "metadata": {
      "needs_background": "light"
     },
     "output_type": "display_data"
    }
   ],
   "source": [
    "sns.heatmap(df.isna())"
   ]
  },
  {
   "cell_type": "code",
   "execution_count": 11,
   "metadata": {},
   "outputs": [
    {
     "data": {
      "text/plain": [
       "<matplotlib.axes._subplots.AxesSubplot at 0x1bac99bcd68>"
      ]
     },
     "execution_count": 11,
     "metadata": {},
     "output_type": "execute_result"
    },
    {
     "data": {
      "image/png": "[encoded data removed]",
      "text/plain": [
       "<Figure size 1800x720 with 2 Axes>"
      ]
     },
     "metadata": {
      "needs_background": "light"
     },
     "output_type": "display_data"
    }
   ],
   "source": [
    "msno.matrix(df)"
   ]
  },
  {
   "cell_type": "code",
   "execution_count": 12,
   "metadata": {},
   "outputs": [
    {
     "data": {
      "text/plain": [
       "<matplotlib.axes._subplots.AxesSubplot at 0x1bac9fbbcf8>"
      ]
     },
     "execution_count": 12,
     "metadata": {},
     "output_type": "execute_result"
    },
    {
     "data": {
      "image/png": "[encoded data removed]",
      "text/plain": [
       "<Figure size 1728x720 with 3 Axes>"
      ]
     },
     "metadata": {
      "needs_background": "light"
     },
     "output_type": "display_data"
    }
   ],
   "source": [
    "msno.bar(df)"
   ]
  },
  {
   "cell_type": "code",
   "execution_count": 13,
   "metadata": {},
   "outputs": [
    {
     "data": {
      "text/plain": [
       "<matplotlib.axes._subplots.AxesSubplot at 0x1bac99603c8>"
      ]
     },
     "execution_count": 13,
     "metadata": {},
     "output_type": "execute_result"
    },
    {
     "data": {
      "image/png": "[encoded data removed]",
      "text/plain": [
       "<Figure size 432x288 with 1 Axes>"
      ]
     },
     "metadata": {
      "needs_background": "light"
     },
     "output_type": "display_data"
    }
   ],
   "source": [
    "sns.barplot(x=\"sex\",y='suicides_no',data=df)"
   ]
  },
  {
   "cell_type": "markdown",
   "metadata": {},
   "source": [
    "From the Barplot, we can observe that more male have committed suicide than compared to the female. There are almost 375 male members whereas as there are more than 100 female members who committed suicide."
   ]
  },
  {
   "cell_type": "code",
   "execution_count": 14,
   "metadata": {},
   "outputs": [
    {
     "data": {
      "text/plain": [
       "<seaborn.axisgrid.FacetGrid at 0x1bac97d59e8>"
      ]
     },
     "execution_count": 14,
     "metadata": {},
     "output_type": "execute_result"
    },
    {
     "data": {
      "image/png": "[encoded data removed]",
      "text/plain": [
       "<Figure size 360x360 with 1 Axes>"
      ]
     },
     "metadata": {
      "needs_background": "light"
     },
     "output_type": "display_data"
    }
   ],
   "source": [
    "sns.catplot(x='suicides_no', y='population', data =df)"
   ]
  },
  {
   "cell_type": "markdown",
   "metadata": {},
   "source": [
    "From the catplot, we can observe that As population increases, suicide number increases"
   ]
  },
  {
   "cell_type": "code",
   "execution_count": 15,
   "metadata": {},
   "outputs": [
    {
     "data": {
      "text/plain": [
       "<matplotlib.axes._subplots.AxesSubplot at 0x1bac996f5c0>"
      ]
     },
     "execution_count": 15,
     "metadata": {},
     "output_type": "execute_result"
    },
    {
     "data": {
      "image/png": "[encoded data removed]",
      "text/plain": [
       "<Figure size 720x720 with 1 Axes>"
      ]
     },
     "metadata": {
      "needs_background": "light"
     },
     "output_type": "display_data"
    }
   ],
   "source": [
    "plt.figure(figsize=(10,10))\n",
    "sns.barplot(x='age',y='suicides_no',data=df)"
   ]
  },
  {
   "cell_type": "markdown",
   "metadata": {},
   "source": [
    "From the Barplot we can observe that citizen in the age range of 35-54 years are most prone to committing suicide. Then, next comes the age range of 55-74 years. Then it is continued by the age range of 25-34 years. Then 15-24 years. Then comes the age range of 5-14 years which is the least."
   ]
  },
  {
   "cell_type": "code",
   "execution_count": 16,
   "metadata": {},
   "outputs": [
    {
     "data": {
      "text/plain": [
       "<matplotlib.axes._subplots.AxesSubplot at 0x1bad0d98d68>"
      ]
     },
     "execution_count": 16,
     "metadata": {},
     "output_type": "execute_result"
    },
    {
     "data": {
      "image/png": "[encoded data removed]",
      "text/plain": [
       "<Figure size 3600x3600 with 1 Axes>"
      ]
     },
     "metadata": {
      "needs_background": "light"
     },
     "output_type": "display_data"
    }
   ],
   "source": [
    "plt.figure(figsize=(50,50))\n",
    "sns.barplot(y='suicides_hk',x='suicides_no',data=df)"
   ]
  },
  {
   "cell_type": "code",
   "execution_count": 17,
   "metadata": {
    "scrolled": true
   },
   "outputs": [
    {
     "data": {
      "text/plain": [
       "<matplotlib.axes._subplots.AxesSubplot at 0x1badaa2f080>"
      ]
     },
     "execution_count": 17,
     "metadata": {},
     "output_type": "execute_result"
    },
    {
     "data": {
      "image/png": "[encoded data removed]",
      "text/plain": [
       "<Figure size 3600x3600 with 1 Axes>"
      ]
     },
     "metadata": {
      "needs_background": "light"
     },
     "output_type": "display_data"
    }
   ],
   "source": [
    "plt.figure(figsize=(50,50))\n",
    "sns.barplot(x='year',y='suicides_no',data=df)"
   ]
  },
  {
   "cell_type": "code",
   "execution_count": 18,
   "metadata": {},
   "outputs": [
    {
     "name": "stderr",
     "output_type": "stream",
     "text": [
      "c:\\users\\srinaja\\miniconda3\\lib\\site-packages\\pandas\\plotting\\_matplotlib\\tools.py:307: MatplotlibDeprecationWarning: \n",
      "The rowNum attribute was deprecated in Matplotlib 3.2 and will be removed two minor releases later. Use ax.get_subplotspec().rowspan.start instead.\n",
      "  layout[ax.rowNum, ax.colNum] = ax.get_visible()\n",
      "c:\\users\\srinaja\\miniconda3\\lib\\site-packages\\pandas\\plotting\\_matplotlib\\tools.py:307: MatplotlibDeprecationWarning: \n",
      "The colNum attribute was deprecated in Matplotlib 3.2 and will be removed two minor releases later. Use ax.get_subplotspec().colspan.start instead.\n",
      "  layout[ax.rowNum, ax.colNum] = ax.get_visible()\n",
      "c:\\users\\srinaja\\miniconda3\\lib\\site-packages\\pandas\\plotting\\_matplotlib\\tools.py:313: MatplotlibDeprecationWarning: \n",
      "The rowNum attribute was deprecated in Matplotlib 3.2 and will be removed two minor releases later. Use ax.get_subplotspec().rowspan.start instead.\n",
      "  if not layout[ax.rowNum + 1, ax.colNum]:\n",
      "c:\\users\\srinaja\\miniconda3\\lib\\site-packages\\pandas\\plotting\\_matplotlib\\tools.py:313: MatplotlibDeprecationWarning: \n",
      "The colNum attribute was deprecated in Matplotlib 3.2 and will be removed two minor releases later. Use ax.get_subplotspec().colspan.start instead.\n",
      "  if not layout[ax.rowNum + 1, ax.colNum]:\n"
     ]
    },
    {
     "data": {
      "text/plain": [
       "array([[<matplotlib.axes._subplots.AxesSubplot object at 0x000001BAD2571128>,\n",
       "        <matplotlib.axes._subplots.AxesSubplot object at 0x000001BAD9F2D4E0>],\n",
       "       [<matplotlib.axes._subplots.AxesSubplot object at 0x000001BAD9F1E7B8>,\n",
       "        <matplotlib.axes._subplots.AxesSubplot object at 0x000001BADA980B38>]],\n",
       "      dtype=object)"
      ]
     },
     "execution_count": 18,
     "metadata": {},
     "output_type": "execute_result"
    },
    {
     "data": {
      "image/png": "[encoded data removed]",
      "text/plain": [
       "<Figure size 720x720 with 4 Axes>"
      ]
     },
     "metadata": {
      "needs_background": "light"
     },
     "output_type": "display_data"
    }
   ],
   "source": [
    "df.hist(figsize=(10,10))"
   ]
  },
  {
   "cell_type": "code",
   "execution_count": 19,
   "metadata": {},
   "outputs": [
    {
     "data": {
      "text/plain": [
       "country         object\n",
       "year             int64\n",
       "sex             object\n",
       "age             object\n",
       "suicides_no      int64\n",
       "population       int64\n",
       "suicides_hk    float64\n",
       "generation      object\n",
       "dtype: object"
      ]
     },
     "execution_count": 19,
     "metadata": {},
     "output_type": "execute_result"
    }
   ],
   "source": [
    "df.dtypes"
   ]
  },
  {
   "cell_type": "code",
   "execution_count": 20,
   "metadata": {},
   "outputs": [],
   "source": [
    "#Converting the datatypesof some of the columns to convinient datatypes\n",
    "df.year = df.year.astype(int)\n",
    "df.suicides_no = df.suicides_no.astype(int)\n",
    "df.population = df.population.astype(int)\n",
    "df.suicides_hk = df.suicides_hk.astype(float)"
   ]
  },
  {
   "cell_type": "code",
   "execution_count": 21,
   "metadata": {},
   "outputs": [
    {
     "data": {
      "text/plain": [
       "country         object\n",
       "year             int32\n",
       "sex             object\n",
       "age             object\n",
       "suicides_no      int32\n",
       "population       int32\n",
       "suicides_hk    float64\n",
       "generation      object\n",
       "dtype: object"
      ]
     },
     "execution_count": 21,
     "metadata": {},
     "output_type": "execute_result"
    }
   ],
   "source": [
    "df.dtypes"
   ]
  },
  {
   "cell_type": "markdown",
   "metadata": {},
   "source": [
    "### Data Encoding:"
   ]
  },
  {
   "cell_type": "markdown",
   "metadata": {},
   "source": [
    "#### Dropping 'country','year' column:"
   ]
  },
  {
   "cell_type": "code",
   "execution_count": 22,
   "metadata": {},
   "outputs": [
    {
     "data": {
      "text/html": [
       "<div>\n",
       "<style scoped>\n",
       "    .dataframe tbody tr th:only-of-type {\n",
       "        vertical-align: middle;\n",
       "    }\n",
       "\n",
       "    .dataframe tbody tr th {\n",
       "        vertical-align: top;\n",
       "    }\n",
       "\n",
       "    .dataframe thead th {\n",
       "        text-align: right;\n",
       "    }\n",
       "</style>\n",
       "<table border=\"1\" class=\"dataframe\">\n",
       "  <thead>\n",
       "    <tr style=\"text-align: right;\">\n",
       "      <th></th>\n",
       "      <th>sex</th>\n",
       "      <th>age</th>\n",
       "      <th>suicides_no</th>\n",
       "      <th>population</th>\n",
       "      <th>suicides_hk</th>\n",
       "      <th>generation</th>\n",
       "    </tr>\n",
       "  </thead>\n",
       "  <tbody>\n",
       "    <tr>\n",
       "      <td>0</td>\n",
       "      <td>male</td>\n",
       "      <td>15-24 years</td>\n",
       "      <td>21</td>\n",
       "      <td>312900</td>\n",
       "      <td>6.71</td>\n",
       "      <td>Generation X</td>\n",
       "    </tr>\n",
       "    <tr>\n",
       "      <td>1</td>\n",
       "      <td>male</td>\n",
       "      <td>35-54 years</td>\n",
       "      <td>16</td>\n",
       "      <td>308000</td>\n",
       "      <td>5.19</td>\n",
       "      <td>Silent</td>\n",
       "    </tr>\n",
       "    <tr>\n",
       "      <td>2</td>\n",
       "      <td>female</td>\n",
       "      <td>15-24 years</td>\n",
       "      <td>14</td>\n",
       "      <td>289700</td>\n",
       "      <td>4.83</td>\n",
       "      <td>Generation X</td>\n",
       "    </tr>\n",
       "    <tr>\n",
       "      <td>3</td>\n",
       "      <td>male</td>\n",
       "      <td>75+ years</td>\n",
       "      <td>1</td>\n",
       "      <td>21800</td>\n",
       "      <td>4.59</td>\n",
       "      <td>G.I. Generation</td>\n",
       "    </tr>\n",
       "    <tr>\n",
       "      <td>4</td>\n",
       "      <td>male</td>\n",
       "      <td>25-34 years</td>\n",
       "      <td>9</td>\n",
       "      <td>274300</td>\n",
       "      <td>3.28</td>\n",
       "      <td>Boomers</td>\n",
       "    </tr>\n",
       "    <tr>\n",
       "      <td>...</td>\n",
       "      <td>...</td>\n",
       "      <td>...</td>\n",
       "      <td>...</td>\n",
       "      <td>...</td>\n",
       "      <td>...</td>\n",
       "      <td>...</td>\n",
       "    </tr>\n",
       "    <tr>\n",
       "      <td>27815</td>\n",
       "      <td>female</td>\n",
       "      <td>35-54 years</td>\n",
       "      <td>107</td>\n",
       "      <td>3620833</td>\n",
       "      <td>2.96</td>\n",
       "      <td>Generation X</td>\n",
       "    </tr>\n",
       "    <tr>\n",
       "      <td>27816</td>\n",
       "      <td>female</td>\n",
       "      <td>75+ years</td>\n",
       "      <td>9</td>\n",
       "      <td>348465</td>\n",
       "      <td>2.58</td>\n",
       "      <td>Silent</td>\n",
       "    </tr>\n",
       "    <tr>\n",
       "      <td>27817</td>\n",
       "      <td>male</td>\n",
       "      <td>5-14 years</td>\n",
       "      <td>60</td>\n",
       "      <td>2762158</td>\n",
       "      <td>2.17</td>\n",
       "      <td>Generation Z</td>\n",
       "    </tr>\n",
       "    <tr>\n",
       "      <td>27818</td>\n",
       "      <td>female</td>\n",
       "      <td>5-14 years</td>\n",
       "      <td>44</td>\n",
       "      <td>2631600</td>\n",
       "      <td>1.67</td>\n",
       "      <td>Generation Z</td>\n",
       "    </tr>\n",
       "    <tr>\n",
       "      <td>27819</td>\n",
       "      <td>female</td>\n",
       "      <td>55-74 years</td>\n",
       "      <td>21</td>\n",
       "      <td>1438935</td>\n",
       "      <td>1.46</td>\n",
       "      <td>Boomers</td>\n",
       "    </tr>\n",
       "  </tbody>\n",
       "</table>\n",
       "<p>27820 rows × 6 columns</p>\n",
       "</div>"
      ],
      "text/plain": [
       "          sex          age  suicides_no  population  suicides_hk  \\\n",
       "0        male  15-24 years           21      312900         6.71   \n",
       "1        male  35-54 years           16      308000         5.19   \n",
       "2      female  15-24 years           14      289700         4.83   \n",
       "3        male    75+ years            1       21800         4.59   \n",
       "4        male  25-34 years            9      274300         3.28   \n",
       "...       ...          ...          ...         ...          ...   \n",
       "27815  female  35-54 years          107     3620833         2.96   \n",
       "27816  female    75+ years            9      348465         2.58   \n",
       "27817    male   5-14 years           60     2762158         2.17   \n",
       "27818  female   5-14 years           44     2631600         1.67   \n",
       "27819  female  55-74 years           21     1438935         1.46   \n",
       "\n",
       "            generation  \n",
       "0         Generation X  \n",
       "1               Silent  \n",
       "2         Generation X  \n",
       "3      G.I. Generation  \n",
       "4              Boomers  \n",
       "...                ...  \n",
       "27815     Generation X  \n",
       "27816           Silent  \n",
       "27817     Generation Z  \n",
       "27818     Generation Z  \n",
       "27819          Boomers  \n",
       "\n",
       "[27820 rows x 6 columns]"
      ]
     },
     "execution_count": 22,
     "metadata": {},
     "output_type": "execute_result"
    }
   ],
   "source": [
    "df.drop([\"country\",\"year\"],axis=1,inplace=True)\n",
    "df"
   ]
  },
  {
   "cell_type": "markdown",
   "metadata": {},
   "source": [
    "#### Concatenating the dataframe with dummies of 'age' column"
   ]
  },
  {
   "cell_type": "code",
   "execution_count": 23,
   "metadata": {},
   "outputs": [
    {
     "data": {
      "text/html": [
       "<div>\n",
       "<style scoped>\n",
       "    .dataframe tbody tr th:only-of-type {\n",
       "        vertical-align: middle;\n",
       "    }\n",
       "\n",
       "    .dataframe tbody tr th {\n",
       "        vertical-align: top;\n",
       "    }\n",
       "\n",
       "    .dataframe thead th {\n",
       "        text-align: right;\n",
       "    }\n",
       "</style>\n",
       "<table border=\"1\" class=\"dataframe\">\n",
       "  <thead>\n",
       "    <tr style=\"text-align: right;\">\n",
       "      <th></th>\n",
       "      <th>sex</th>\n",
       "      <th>age</th>\n",
       "      <th>suicides_no</th>\n",
       "      <th>population</th>\n",
       "      <th>suicides_hk</th>\n",
       "      <th>generation</th>\n",
       "      <th>Age_25-34 years</th>\n",
       "      <th>Age_35-54 years</th>\n",
       "      <th>Age_5-14 years</th>\n",
       "      <th>Age_55-74 years</th>\n",
       "      <th>Age_75+ years</th>\n",
       "    </tr>\n",
       "  </thead>\n",
       "  <tbody>\n",
       "    <tr>\n",
       "      <td>0</td>\n",
       "      <td>male</td>\n",
       "      <td>15-24 years</td>\n",
       "      <td>21</td>\n",
       "      <td>312900</td>\n",
       "      <td>6.71</td>\n",
       "      <td>Generation X</td>\n",
       "      <td>0</td>\n",
       "      <td>0</td>\n",
       "      <td>0</td>\n",
       "      <td>0</td>\n",
       "      <td>0</td>\n",
       "    </tr>\n",
       "    <tr>\n",
       "      <td>1</td>\n",
       "      <td>male</td>\n",
       "      <td>35-54 years</td>\n",
       "      <td>16</td>\n",
       "      <td>308000</td>\n",
       "      <td>5.19</td>\n",
       "      <td>Silent</td>\n",
       "      <td>0</td>\n",
       "      <td>1</td>\n",
       "      <td>0</td>\n",
       "      <td>0</td>\n",
       "      <td>0</td>\n",
       "    </tr>\n",
       "    <tr>\n",
       "      <td>2</td>\n",
       "      <td>female</td>\n",
       "      <td>15-24 years</td>\n",
       "      <td>14</td>\n",
       "      <td>289700</td>\n",
       "      <td>4.83</td>\n",
       "      <td>Generation X</td>\n",
       "      <td>0</td>\n",
       "      <td>0</td>\n",
       "      <td>0</td>\n",
       "      <td>0</td>\n",
       "      <td>0</td>\n",
       "    </tr>\n",
       "    <tr>\n",
       "      <td>3</td>\n",
       "      <td>male</td>\n",
       "      <td>75+ years</td>\n",
       "      <td>1</td>\n",
       "      <td>21800</td>\n",
       "      <td>4.59</td>\n",
       "      <td>G.I. Generation</td>\n",
       "      <td>0</td>\n",
       "      <td>0</td>\n",
       "      <td>0</td>\n",
       "      <td>0</td>\n",
       "      <td>1</td>\n",
       "    </tr>\n",
       "    <tr>\n",
       "      <td>4</td>\n",
       "      <td>male</td>\n",
       "      <td>25-34 years</td>\n",
       "      <td>9</td>\n",
       "      <td>274300</td>\n",
       "      <td>3.28</td>\n",
       "      <td>Boomers</td>\n",
       "      <td>1</td>\n",
       "      <td>0</td>\n",
       "      <td>0</td>\n",
       "      <td>0</td>\n",
       "      <td>0</td>\n",
       "    </tr>\n",
       "  </tbody>\n",
       "</table>\n",
       "</div>"
      ],
      "text/plain": [
       "      sex          age  suicides_no  population  suicides_hk       generation  \\\n",
       "0    male  15-24 years           21      312900         6.71     Generation X   \n",
       "1    male  35-54 years           16      308000         5.19           Silent   \n",
       "2  female  15-24 years           14      289700         4.83     Generation X   \n",
       "3    male    75+ years            1       21800         4.59  G.I. Generation   \n",
       "4    male  25-34 years            9      274300         3.28          Boomers   \n",
       "\n",
       "   Age_25-34 years  Age_35-54 years  Age_5-14 years  Age_55-74 years  \\\n",
       "0                0                0               0                0   \n",
       "1                0                1               0                0   \n",
       "2                0                0               0                0   \n",
       "3                0                0               0                0   \n",
       "4                1                0               0                0   \n",
       "\n",
       "   Age_75+ years  \n",
       "0              0  \n",
       "1              0  \n",
       "2              0  \n",
       "3              1  \n",
       "4              0  "
      ]
     },
     "execution_count": 23,
     "metadata": {},
     "output_type": "execute_result"
    }
   ],
   "source": [
    "df = pd.concat([df,pd.get_dummies(df.age,prefix=\"Age\",drop_first=True)] ,axis=1)\n",
    "df.head()"
   ]
  },
  {
   "cell_type": "markdown",
   "metadata": {},
   "source": [
    "#### Concatenating the dataframe with dummies of 'generation' column"
   ]
  },
  {
   "cell_type": "code",
   "execution_count": 24,
   "metadata": {},
   "outputs": [
    {
     "data": {
      "text/plain": [
       "Generation X       6408\n",
       "Silent             6364\n",
       "Millenials         5844\n",
       "Boomers            4990\n",
       "G.I. Generation    2744\n",
       "Generation Z       1470\n",
       "Name: generation, dtype: int64"
      ]
     },
     "execution_count": 24,
     "metadata": {},
     "output_type": "execute_result"
    }
   ],
   "source": [
    "df[\"generation\"].value_counts()"
   ]
  },
  {
   "cell_type": "code",
   "execution_count": 25,
   "metadata": {},
   "outputs": [
    {
     "data": {
      "text/html": [
       "<div>\n",
       "<style scoped>\n",
       "    .dataframe tbody tr th:only-of-type {\n",
       "        vertical-align: middle;\n",
       "    }\n",
       "\n",
       "    .dataframe tbody tr th {\n",
       "        vertical-align: top;\n",
       "    }\n",
       "\n",
       "    .dataframe thead th {\n",
       "        text-align: right;\n",
       "    }\n",
       "</style>\n",
       "<table border=\"1\" class=\"dataframe\">\n",
       "  <thead>\n",
       "    <tr style=\"text-align: right;\">\n",
       "      <th></th>\n",
       "      <th>sex</th>\n",
       "      <th>age</th>\n",
       "      <th>suicides_no</th>\n",
       "      <th>population</th>\n",
       "      <th>suicides_hk</th>\n",
       "      <th>generation</th>\n",
       "      <th>Age_25-34 years</th>\n",
       "      <th>Age_35-54 years</th>\n",
       "      <th>Age_5-14 years</th>\n",
       "      <th>Age_55-74 years</th>\n",
       "      <th>Age_75+ years</th>\n",
       "      <th>Gen_G.I. Generation</th>\n",
       "      <th>Gen_Generation X</th>\n",
       "      <th>Gen_Generation Z</th>\n",
       "      <th>Gen_Millenials</th>\n",
       "      <th>Gen_Silent</th>\n",
       "    </tr>\n",
       "  </thead>\n",
       "  <tbody>\n",
       "    <tr>\n",
       "      <td>0</td>\n",
       "      <td>male</td>\n",
       "      <td>15-24 years</td>\n",
       "      <td>21</td>\n",
       "      <td>312900</td>\n",
       "      <td>6.71</td>\n",
       "      <td>Generation X</td>\n",
       "      <td>0</td>\n",
       "      <td>0</td>\n",
       "      <td>0</td>\n",
       "      <td>0</td>\n",
       "      <td>0</td>\n",
       "      <td>0</td>\n",
       "      <td>1</td>\n",
       "      <td>0</td>\n",
       "      <td>0</td>\n",
       "      <td>0</td>\n",
       "    </tr>\n",
       "    <tr>\n",
       "      <td>1</td>\n",
       "      <td>male</td>\n",
       "      <td>35-54 years</td>\n",
       "      <td>16</td>\n",
       "      <td>308000</td>\n",
       "      <td>5.19</td>\n",
       "      <td>Silent</td>\n",
       "      <td>0</td>\n",
       "      <td>1</td>\n",
       "      <td>0</td>\n",
       "      <td>0</td>\n",
       "      <td>0</td>\n",
       "      <td>0</td>\n",
       "      <td>0</td>\n",
       "      <td>0</td>\n",
       "      <td>0</td>\n",
       "      <td>1</td>\n",
       "    </tr>\n",
       "    <tr>\n",
       "      <td>2</td>\n",
       "      <td>female</td>\n",
       "      <td>15-24 years</td>\n",
       "      <td>14</td>\n",
       "      <td>289700</td>\n",
       "      <td>4.83</td>\n",
       "      <td>Generation X</td>\n",
       "      <td>0</td>\n",
       "      <td>0</td>\n",
       "      <td>0</td>\n",
       "      <td>0</td>\n",
       "      <td>0</td>\n",
       "      <td>0</td>\n",
       "      <td>1</td>\n",
       "      <td>0</td>\n",
       "      <td>0</td>\n",
       "      <td>0</td>\n",
       "    </tr>\n",
       "    <tr>\n",
       "      <td>3</td>\n",
       "      <td>male</td>\n",
       "      <td>75+ years</td>\n",
       "      <td>1</td>\n",
       "      <td>21800</td>\n",
       "      <td>4.59</td>\n",
       "      <td>G.I. Generation</td>\n",
       "      <td>0</td>\n",
       "      <td>0</td>\n",
       "      <td>0</td>\n",
       "      <td>0</td>\n",
       "      <td>1</td>\n",
       "      <td>1</td>\n",
       "      <td>0</td>\n",
       "      <td>0</td>\n",
       "      <td>0</td>\n",
       "      <td>0</td>\n",
       "    </tr>\n",
       "    <tr>\n",
       "      <td>4</td>\n",
       "      <td>male</td>\n",
       "      <td>25-34 years</td>\n",
       "      <td>9</td>\n",
       "      <td>274300</td>\n",
       "      <td>3.28</td>\n",
       "      <td>Boomers</td>\n",
       "      <td>1</td>\n",
       "      <td>0</td>\n",
       "      <td>0</td>\n",
       "      <td>0</td>\n",
       "      <td>0</td>\n",
       "      <td>0</td>\n",
       "      <td>0</td>\n",
       "      <td>0</td>\n",
       "      <td>0</td>\n",
       "      <td>0</td>\n",
       "    </tr>\n",
       "  </tbody>\n",
       "</table>\n",
       "</div>"
      ],
      "text/plain": [
       "      sex          age  suicides_no  population  suicides_hk       generation  \\\n",
       "0    male  15-24 years           21      312900         6.71     Generation X   \n",
       "1    male  35-54 years           16      308000         5.19           Silent   \n",
       "2  female  15-24 years           14      289700         4.83     Generation X   \n",
       "3    male    75+ years            1       21800         4.59  G.I. Generation   \n",
       "4    male  25-34 years            9      274300         3.28          Boomers   \n",
       "\n",
       "   Age_25-34 years  Age_35-54 years  Age_5-14 years  Age_55-74 years  \\\n",
       "0                0                0               0                0   \n",
       "1                0                1               0                0   \n",
       "2                0                0               0                0   \n",
       "3                0                0               0                0   \n",
       "4                1                0               0                0   \n",
       "\n",
       "   Age_75+ years  Gen_G.I. Generation  Gen_Generation X  Gen_Generation Z  \\\n",
       "0              0                    0                 1                 0   \n",
       "1              0                    0                 0                 0   \n",
       "2              0                    0                 1                 0   \n",
       "3              1                    1                 0                 0   \n",
       "4              0                    0                 0                 0   \n",
       "\n",
       "   Gen_Millenials  Gen_Silent  \n",
       "0               0           0  \n",
       "1               0           1  \n",
       "2               0           0  \n",
       "3               0           0  \n",
       "4               0           0  "
      ]
     },
     "execution_count": 25,
     "metadata": {},
     "output_type": "execute_result"
    }
   ],
   "source": [
    "df = pd.concat([df,pd.get_dummies(df.generation,prefix=\"Gen\",drop_first=True)]   ,axis=1)\n",
    "df.head()"
   ]
  },
  {
   "cell_type": "markdown",
   "metadata": {},
   "source": [
    "#### Label Encoding 'sex' column"
   ]
  },
  {
   "cell_type": "code",
   "execution_count": 26,
   "metadata": {},
   "outputs": [
    {
     "data": {
      "text/plain": [
       "male      13910\n",
       "female    13910\n",
       "Name: sex, dtype: int64"
      ]
     },
     "execution_count": 26,
     "metadata": {},
     "output_type": "execute_result"
    }
   ],
   "source": [
    "df[\"sex\"].value_counts()"
   ]
  },
  {
   "cell_type": "code",
   "execution_count": 27,
   "metadata": {},
   "outputs": [
    {
     "data": {
      "text/html": [
       "<div>\n",
       "<style scoped>\n",
       "    .dataframe tbody tr th:only-of-type {\n",
       "        vertical-align: middle;\n",
       "    }\n",
       "\n",
       "    .dataframe tbody tr th {\n",
       "        vertical-align: top;\n",
       "    }\n",
       "\n",
       "    .dataframe thead th {\n",
       "        text-align: right;\n",
       "    }\n",
       "</style>\n",
       "<table border=\"1\" class=\"dataframe\">\n",
       "  <thead>\n",
       "    <tr style=\"text-align: right;\">\n",
       "      <th></th>\n",
       "      <th>sex</th>\n",
       "      <th>age</th>\n",
       "      <th>suicides_no</th>\n",
       "      <th>population</th>\n",
       "      <th>suicides_hk</th>\n",
       "      <th>generation</th>\n",
       "      <th>Age_25-34 years</th>\n",
       "      <th>Age_35-54 years</th>\n",
       "      <th>Age_5-14 years</th>\n",
       "      <th>Age_55-74 years</th>\n",
       "      <th>Age_75+ years</th>\n",
       "      <th>Gen_G.I. Generation</th>\n",
       "      <th>Gen_Generation X</th>\n",
       "      <th>Gen_Generation Z</th>\n",
       "      <th>Gen_Millenials</th>\n",
       "      <th>Gen_Silent</th>\n",
       "    </tr>\n",
       "  </thead>\n",
       "  <tbody>\n",
       "    <tr>\n",
       "      <td>0</td>\n",
       "      <td>1</td>\n",
       "      <td>15-24 years</td>\n",
       "      <td>21</td>\n",
       "      <td>312900</td>\n",
       "      <td>6.71</td>\n",
       "      <td>Generation X</td>\n",
       "      <td>0</td>\n",
       "      <td>0</td>\n",
       "      <td>0</td>\n",
       "      <td>0</td>\n",
       "      <td>0</td>\n",
       "      <td>0</td>\n",
       "      <td>1</td>\n",
       "      <td>0</td>\n",
       "      <td>0</td>\n",
       "      <td>0</td>\n",
       "    </tr>\n",
       "    <tr>\n",
       "      <td>1</td>\n",
       "      <td>1</td>\n",
       "      <td>35-54 years</td>\n",
       "      <td>16</td>\n",
       "      <td>308000</td>\n",
       "      <td>5.19</td>\n",
       "      <td>Silent</td>\n",
       "      <td>0</td>\n",
       "      <td>1</td>\n",
       "      <td>0</td>\n",
       "      <td>0</td>\n",
       "      <td>0</td>\n",
       "      <td>0</td>\n",
       "      <td>0</td>\n",
       "      <td>0</td>\n",
       "      <td>0</td>\n",
       "      <td>1</td>\n",
       "    </tr>\n",
       "    <tr>\n",
       "      <td>2</td>\n",
       "      <td>0</td>\n",
       "      <td>15-24 years</td>\n",
       "      <td>14</td>\n",
       "      <td>289700</td>\n",
       "      <td>4.83</td>\n",
       "      <td>Generation X</td>\n",
       "      <td>0</td>\n",
       "      <td>0</td>\n",
       "      <td>0</td>\n",
       "      <td>0</td>\n",
       "      <td>0</td>\n",
       "      <td>0</td>\n",
       "      <td>1</td>\n",
       "      <td>0</td>\n",
       "      <td>0</td>\n",
       "      <td>0</td>\n",
       "    </tr>\n",
       "    <tr>\n",
       "      <td>3</td>\n",
       "      <td>1</td>\n",
       "      <td>75+ years</td>\n",
       "      <td>1</td>\n",
       "      <td>21800</td>\n",
       "      <td>4.59</td>\n",
       "      <td>G.I. Generation</td>\n",
       "      <td>0</td>\n",
       "      <td>0</td>\n",
       "      <td>0</td>\n",
       "      <td>0</td>\n",
       "      <td>1</td>\n",
       "      <td>1</td>\n",
       "      <td>0</td>\n",
       "      <td>0</td>\n",
       "      <td>0</td>\n",
       "      <td>0</td>\n",
       "    </tr>\n",
       "    <tr>\n",
       "      <td>4</td>\n",
       "      <td>1</td>\n",
       "      <td>25-34 years</td>\n",
       "      <td>9</td>\n",
       "      <td>274300</td>\n",
       "      <td>3.28</td>\n",
       "      <td>Boomers</td>\n",
       "      <td>1</td>\n",
       "      <td>0</td>\n",
       "      <td>0</td>\n",
       "      <td>0</td>\n",
       "      <td>0</td>\n",
       "      <td>0</td>\n",
       "      <td>0</td>\n",
       "      <td>0</td>\n",
       "      <td>0</td>\n",
       "      <td>0</td>\n",
       "    </tr>\n",
       "  </tbody>\n",
       "</table>\n",
       "</div>"
      ],
      "text/plain": [
       "   sex          age  suicides_no  population  suicides_hk       generation  \\\n",
       "0    1  15-24 years           21      312900         6.71     Generation X   \n",
       "1    1  35-54 years           16      308000         5.19           Silent   \n",
       "2    0  15-24 years           14      289700         4.83     Generation X   \n",
       "3    1    75+ years            1       21800         4.59  G.I. Generation   \n",
       "4    1  25-34 years            9      274300         3.28          Boomers   \n",
       "\n",
       "   Age_25-34 years  Age_35-54 years  Age_5-14 years  Age_55-74 years  \\\n",
       "0                0                0               0                0   \n",
       "1                0                1               0                0   \n",
       "2                0                0               0                0   \n",
       "3                0                0               0                0   \n",
       "4                1                0               0                0   \n",
       "\n",
       "   Age_75+ years  Gen_G.I. Generation  Gen_Generation X  Gen_Generation Z  \\\n",
       "0              0                    0                 1                 0   \n",
       "1              0                    0                 0                 0   \n",
       "2              0                    0                 1                 0   \n",
       "3              1                    1                 0                 0   \n",
       "4              0                    0                 0                 0   \n",
       "\n",
       "   Gen_Millenials  Gen_Silent  \n",
       "0               0           0  \n",
       "1               0           1  \n",
       "2               0           0  \n",
       "3               0           0  \n",
       "4               0           0  "
      ]
     },
     "execution_count": 27,
     "metadata": {},
     "output_type": "execute_result"
    }
   ],
   "source": [
    "df['sex']=LabelEncoder().fit_transform(df.sex)\n",
    "df.head()"
   ]
  },
  {
   "cell_type": "markdown",
   "metadata": {},
   "source": [
    "### Now Dropping 'age,generation' column"
   ]
  },
  {
   "cell_type": "code",
   "execution_count": 28,
   "metadata": {},
   "outputs": [
    {
     "data": {
      "text/html": [
       "<div>\n",
       "<style scoped>\n",
       "    .dataframe tbody tr th:only-of-type {\n",
       "        vertical-align: middle;\n",
       "    }\n",
       "\n",
       "    .dataframe tbody tr th {\n",
       "        vertical-align: top;\n",
       "    }\n",
       "\n",
       "    .dataframe thead th {\n",
       "        text-align: right;\n",
       "    }\n",
       "</style>\n",
       "<table border=\"1\" class=\"dataframe\">\n",
       "  <thead>\n",
       "    <tr style=\"text-align: right;\">\n",
       "      <th></th>\n",
       "      <th>sex</th>\n",
       "      <th>suicides_no</th>\n",
       "      <th>population</th>\n",
       "      <th>suicides_hk</th>\n",
       "      <th>Age_25-34 years</th>\n",
       "      <th>Age_35-54 years</th>\n",
       "      <th>Age_5-14 years</th>\n",
       "      <th>Age_55-74 years</th>\n",
       "      <th>Age_75+ years</th>\n",
       "      <th>Gen_G.I. Generation</th>\n",
       "      <th>Gen_Generation X</th>\n",
       "      <th>Gen_Generation Z</th>\n",
       "      <th>Gen_Millenials</th>\n",
       "      <th>Gen_Silent</th>\n",
       "    </tr>\n",
       "  </thead>\n",
       "  <tbody>\n",
       "    <tr>\n",
       "      <td>0</td>\n",
       "      <td>1</td>\n",
       "      <td>21</td>\n",
       "      <td>312900</td>\n",
       "      <td>6.71</td>\n",
       "      <td>0</td>\n",
       "      <td>0</td>\n",
       "      <td>0</td>\n",
       "      <td>0</td>\n",
       "      <td>0</td>\n",
       "      <td>0</td>\n",
       "      <td>1</td>\n",
       "      <td>0</td>\n",
       "      <td>0</td>\n",
       "      <td>0</td>\n",
       "    </tr>\n",
       "    <tr>\n",
       "      <td>1</td>\n",
       "      <td>1</td>\n",
       "      <td>16</td>\n",
       "      <td>308000</td>\n",
       "      <td>5.19</td>\n",
       "      <td>0</td>\n",
       "      <td>1</td>\n",
       "      <td>0</td>\n",
       "      <td>0</td>\n",
       "      <td>0</td>\n",
       "      <td>0</td>\n",
       "      <td>0</td>\n",
       "      <td>0</td>\n",
       "      <td>0</td>\n",
       "      <td>1</td>\n",
       "    </tr>\n",
       "    <tr>\n",
       "      <td>2</td>\n",
       "      <td>0</td>\n",
       "      <td>14</td>\n",
       "      <td>289700</td>\n",
       "      <td>4.83</td>\n",
       "      <td>0</td>\n",
       "      <td>0</td>\n",
       "      <td>0</td>\n",
       "      <td>0</td>\n",
       "      <td>0</td>\n",
       "      <td>0</td>\n",
       "      <td>1</td>\n",
       "      <td>0</td>\n",
       "      <td>0</td>\n",
       "      <td>0</td>\n",
       "    </tr>\n",
       "    <tr>\n",
       "      <td>3</td>\n",
       "      <td>1</td>\n",
       "      <td>1</td>\n",
       "      <td>21800</td>\n",
       "      <td>4.59</td>\n",
       "      <td>0</td>\n",
       "      <td>0</td>\n",
       "      <td>0</td>\n",
       "      <td>0</td>\n",
       "      <td>1</td>\n",
       "      <td>1</td>\n",
       "      <td>0</td>\n",
       "      <td>0</td>\n",
       "      <td>0</td>\n",
       "      <td>0</td>\n",
       "    </tr>\n",
       "    <tr>\n",
       "      <td>4</td>\n",
       "      <td>1</td>\n",
       "      <td>9</td>\n",
       "      <td>274300</td>\n",
       "      <td>3.28</td>\n",
       "      <td>1</td>\n",
       "      <td>0</td>\n",
       "      <td>0</td>\n",
       "      <td>0</td>\n",
       "      <td>0</td>\n",
       "      <td>0</td>\n",
       "      <td>0</td>\n",
       "      <td>0</td>\n",
       "      <td>0</td>\n",
       "      <td>0</td>\n",
       "    </tr>\n",
       "    <tr>\n",
       "      <td>...</td>\n",
       "      <td>...</td>\n",
       "      <td>...</td>\n",
       "      <td>...</td>\n",
       "      <td>...</td>\n",
       "      <td>...</td>\n",
       "      <td>...</td>\n",
       "      <td>...</td>\n",
       "      <td>...</td>\n",
       "      <td>...</td>\n",
       "      <td>...</td>\n",
       "      <td>...</td>\n",
       "      <td>...</td>\n",
       "      <td>...</td>\n",
       "      <td>...</td>\n",
       "    </tr>\n",
       "    <tr>\n",
       "      <td>27815</td>\n",
       "      <td>0</td>\n",
       "      <td>107</td>\n",
       "      <td>3620833</td>\n",
       "      <td>2.96</td>\n",
       "      <td>0</td>\n",
       "      <td>1</td>\n",
       "      <td>0</td>\n",
       "      <td>0</td>\n",
       "      <td>0</td>\n",
       "      <td>0</td>\n",
       "      <td>1</td>\n",
       "      <td>0</td>\n",
       "      <td>0</td>\n",
       "      <td>0</td>\n",
       "    </tr>\n",
       "    <tr>\n",
       "      <td>27816</td>\n",
       "      <td>0</td>\n",
       "      <td>9</td>\n",
       "      <td>348465</td>\n",
       "      <td>2.58</td>\n",
       "      <td>0</td>\n",
       "      <td>0</td>\n",
       "      <td>0</td>\n",
       "      <td>0</td>\n",
       "      <td>1</td>\n",
       "      <td>0</td>\n",
       "      <td>0</td>\n",
       "      <td>0</td>\n",
       "      <td>0</td>\n",
       "      <td>1</td>\n",
       "    </tr>\n",
       "    <tr>\n",
       "      <td>27817</td>\n",
       "      <td>1</td>\n",
       "      <td>60</td>\n",
       "      <td>2762158</td>\n",
       "      <td>2.17</td>\n",
       "      <td>0</td>\n",
       "      <td>0</td>\n",
       "      <td>1</td>\n",
       "      <td>0</td>\n",
       "      <td>0</td>\n",
       "      <td>0</td>\n",
       "      <td>0</td>\n",
       "      <td>1</td>\n",
       "      <td>0</td>\n",
       "      <td>0</td>\n",
       "    </tr>\n",
       "    <tr>\n",
       "      <td>27818</td>\n",
       "      <td>0</td>\n",
       "      <td>44</td>\n",
       "      <td>2631600</td>\n",
       "      <td>1.67</td>\n",
       "      <td>0</td>\n",
       "      <td>0</td>\n",
       "      <td>1</td>\n",
       "      <td>0</td>\n",
       "      <td>0</td>\n",
       "      <td>0</td>\n",
       "      <td>0</td>\n",
       "      <td>1</td>\n",
       "      <td>0</td>\n",
       "      <td>0</td>\n",
       "    </tr>\n",
       "    <tr>\n",
       "      <td>27819</td>\n",
       "      <td>0</td>\n",
       "      <td>21</td>\n",
       "      <td>1438935</td>\n",
       "      <td>1.46</td>\n",
       "      <td>0</td>\n",
       "      <td>0</td>\n",
       "      <td>0</td>\n",
       "      <td>1</td>\n",
       "      <td>0</td>\n",
       "      <td>0</td>\n",
       "      <td>0</td>\n",
       "      <td>0</td>\n",
       "      <td>0</td>\n",
       "      <td>0</td>\n",
       "    </tr>\n",
       "  </tbody>\n",
       "</table>\n",
       "<p>27820 rows × 14 columns</p>\n",
       "</div>"
      ],
      "text/plain": [
       "       sex  suicides_no  population  suicides_hk  Age_25-34 years  \\\n",
       "0        1           21      312900         6.71                0   \n",
       "1        1           16      308000         5.19                0   \n",
       "2        0           14      289700         4.83                0   \n",
       "3        1            1       21800         4.59                0   \n",
       "4        1            9      274300         3.28                1   \n",
       "...    ...          ...         ...          ...              ...   \n",
       "27815    0          107     3620833         2.96                0   \n",
       "27816    0            9      348465         2.58                0   \n",
       "27817    1           60     2762158         2.17                0   \n",
       "27818    0           44     2631600         1.67                0   \n",
       "27819    0           21     1438935         1.46                0   \n",
       "\n",
       "       Age_35-54 years  Age_5-14 years  Age_55-74 years  Age_75+ years  \\\n",
       "0                    0               0                0              0   \n",
       "1                    1               0                0              0   \n",
       "2                    0               0                0              0   \n",
       "3                    0               0                0              1   \n",
       "4                    0               0                0              0   \n",
       "...                ...             ...              ...            ...   \n",
       "27815                1               0                0              0   \n",
       "27816                0               0                0              1   \n",
       "27817                0               1                0              0   \n",
       "27818                0               1                0              0   \n",
       "27819                0               0                1              0   \n",
       "\n",
       "       Gen_G.I. Generation  Gen_Generation X  Gen_Generation Z  \\\n",
       "0                        0                 1                 0   \n",
       "1                        0                 0                 0   \n",
       "2                        0                 1                 0   \n",
       "3                        1                 0                 0   \n",
       "4                        0                 0                 0   \n",
       "...                    ...               ...               ...   \n",
       "27815                    0                 1                 0   \n",
       "27816                    0                 0                 0   \n",
       "27817                    0                 0                 1   \n",
       "27818                    0                 0                 1   \n",
       "27819                    0                 0                 0   \n",
       "\n",
       "       Gen_Millenials  Gen_Silent  \n",
       "0                   0           0  \n",
       "1                   0           1  \n",
       "2                   0           0  \n",
       "3                   0           0  \n",
       "4                   0           0  \n",
       "...               ...         ...  \n",
       "27815               0           0  \n",
       "27816               0           1  \n",
       "27817               0           0  \n",
       "27818               0           0  \n",
       "27819               0           0  \n",
       "\n",
       "[27820 rows x 14 columns]"
      ]
     },
     "execution_count": 28,
     "metadata": {},
     "output_type": "execute_result"
    }
   ],
   "source": [
    "df.drop([\"age\",\"generation\"],axis=1,inplace=True)\n",
    "df"
   ]
  },
  {
   "cell_type": "code",
   "execution_count": 29,
   "metadata": {},
   "outputs": [],
   "source": [
    "df['Age_25-34 years'] = df['Age_25-34 years'].astype(int)\n",
    "df['Age_35-54 years'] = df['Age_35-54 years'].astype(int)\n",
    "df['Age_5-14 years'] = df['Age_5-14 years'].astype(int)\n",
    "df['Age_55-74 years'] = df['Age_55-74 years'].astype(int)\n",
    "df['Age_75+ years'] = df['Age_75+ years'].astype(int)\n",
    "df['Gen_G.I. Generation'] = df['Gen_G.I. Generation'].astype(int)\n",
    "df['Gen_Generation X'] = df['Gen_Generation X'].astype(int)\n",
    "df['Gen_Generation Z'] = df['Gen_Generation Z'].astype(int)\n",
    "df['Gen_Millenials'] = df['Gen_Millenials'].astype(int)\n",
    "df['Gen_Silent'] = df['Gen_Silent'].astype(int)\n",
    "df.suicides_no=df.suicides_no.astype(int)"
   ]
  },
  {
   "cell_type": "code",
   "execution_count": 30,
   "metadata": {},
   "outputs": [],
   "source": [
    "df.population = df.population.astype(int)"
   ]
  },
  {
   "cell_type": "code",
   "execution_count": 31,
   "metadata": {},
   "outputs": [
    {
     "data": {
      "text/plain": [
       "sex                      int32\n",
       "suicides_no              int32\n",
       "population               int32\n",
       "suicides_hk            float64\n",
       "Age_25-34 years          int32\n",
       "Age_35-54 years          int32\n",
       "Age_5-14 years           int32\n",
       "Age_55-74 years          int32\n",
       "Age_75+ years            int32\n",
       "Gen_G.I. Generation      int32\n",
       "Gen_Generation X         int32\n",
       "Gen_Generation Z         int32\n",
       "Gen_Millenials           int32\n",
       "Gen_Silent               int32\n",
       "dtype: object"
      ]
     },
     "execution_count": 31,
     "metadata": {},
     "output_type": "execute_result"
    }
   ],
   "source": [
    "df.dtypes"
   ]
  },
  {
   "cell_type": "markdown",
   "metadata": {},
   "source": [
    "### Splitting the data input and output data"
   ]
  },
  {
   "cell_type": "code",
   "execution_count": 32,
   "metadata": {},
   "outputs": [
    {
     "data": {
      "text/html": [
       "<div>\n",
       "<style scoped>\n",
       "    .dataframe tbody tr th:only-of-type {\n",
       "        vertical-align: middle;\n",
       "    }\n",
       "\n",
       "    .dataframe tbody tr th {\n",
       "        vertical-align: top;\n",
       "    }\n",
       "\n",
       "    .dataframe thead th {\n",
       "        text-align: right;\n",
       "    }\n",
       "</style>\n",
       "<table border=\"1\" class=\"dataframe\">\n",
       "  <thead>\n",
       "    <tr style=\"text-align: right;\">\n",
       "      <th></th>\n",
       "      <th>sex</th>\n",
       "      <th>population</th>\n",
       "      <th>suicides_hk</th>\n",
       "      <th>Age_25-34 years</th>\n",
       "      <th>Age_35-54 years</th>\n",
       "      <th>Age_5-14 years</th>\n",
       "      <th>Age_55-74 years</th>\n",
       "      <th>Age_75+ years</th>\n",
       "      <th>Gen_G.I. Generation</th>\n",
       "      <th>Gen_Generation X</th>\n",
       "      <th>Gen_Generation Z</th>\n",
       "      <th>Gen_Millenials</th>\n",
       "      <th>Gen_Silent</th>\n",
       "    </tr>\n",
       "  </thead>\n",
       "  <tbody>\n",
       "    <tr>\n",
       "      <td>0</td>\n",
       "      <td>1</td>\n",
       "      <td>312900</td>\n",
       "      <td>6.71</td>\n",
       "      <td>0</td>\n",
       "      <td>0</td>\n",
       "      <td>0</td>\n",
       "      <td>0</td>\n",
       "      <td>0</td>\n",
       "      <td>0</td>\n",
       "      <td>1</td>\n",
       "      <td>0</td>\n",
       "      <td>0</td>\n",
       "      <td>0</td>\n",
       "    </tr>\n",
       "    <tr>\n",
       "      <td>1</td>\n",
       "      <td>1</td>\n",
       "      <td>308000</td>\n",
       "      <td>5.19</td>\n",
       "      <td>0</td>\n",
       "      <td>1</td>\n",
       "      <td>0</td>\n",
       "      <td>0</td>\n",
       "      <td>0</td>\n",
       "      <td>0</td>\n",
       "      <td>0</td>\n",
       "      <td>0</td>\n",
       "      <td>0</td>\n",
       "      <td>1</td>\n",
       "    </tr>\n",
       "    <tr>\n",
       "      <td>2</td>\n",
       "      <td>0</td>\n",
       "      <td>289700</td>\n",
       "      <td>4.83</td>\n",
       "      <td>0</td>\n",
       "      <td>0</td>\n",
       "      <td>0</td>\n",
       "      <td>0</td>\n",
       "      <td>0</td>\n",
       "      <td>0</td>\n",
       "      <td>1</td>\n",
       "      <td>0</td>\n",
       "      <td>0</td>\n",
       "      <td>0</td>\n",
       "    </tr>\n",
       "    <tr>\n",
       "      <td>3</td>\n",
       "      <td>1</td>\n",
       "      <td>21800</td>\n",
       "      <td>4.59</td>\n",
       "      <td>0</td>\n",
       "      <td>0</td>\n",
       "      <td>0</td>\n",
       "      <td>0</td>\n",
       "      <td>1</td>\n",
       "      <td>1</td>\n",
       "      <td>0</td>\n",
       "      <td>0</td>\n",
       "      <td>0</td>\n",
       "      <td>0</td>\n",
       "    </tr>\n",
       "    <tr>\n",
       "      <td>4</td>\n",
       "      <td>1</td>\n",
       "      <td>274300</td>\n",
       "      <td>3.28</td>\n",
       "      <td>1</td>\n",
       "      <td>0</td>\n",
       "      <td>0</td>\n",
       "      <td>0</td>\n",
       "      <td>0</td>\n",
       "      <td>0</td>\n",
       "      <td>0</td>\n",
       "      <td>0</td>\n",
       "      <td>0</td>\n",
       "      <td>0</td>\n",
       "    </tr>\n",
       "    <tr>\n",
       "      <td>...</td>\n",
       "      <td>...</td>\n",
       "      <td>...</td>\n",
       "      <td>...</td>\n",
       "      <td>...</td>\n",
       "      <td>...</td>\n",
       "      <td>...</td>\n",
       "      <td>...</td>\n",
       "      <td>...</td>\n",
       "      <td>...</td>\n",
       "      <td>...</td>\n",
       "      <td>...</td>\n",
       "      <td>...</td>\n",
       "      <td>...</td>\n",
       "    </tr>\n",
       "    <tr>\n",
       "      <td>27815</td>\n",
       "      <td>0</td>\n",
       "      <td>3620833</td>\n",
       "      <td>2.96</td>\n",
       "      <td>0</td>\n",
       "      <td>1</td>\n",
       "      <td>0</td>\n",
       "      <td>0</td>\n",
       "      <td>0</td>\n",
       "      <td>0</td>\n",
       "      <td>1</td>\n",
       "      <td>0</td>\n",
       "      <td>0</td>\n",
       "      <td>0</td>\n",
       "    </tr>\n",
       "    <tr>\n",
       "      <td>27816</td>\n",
       "      <td>0</td>\n",
       "      <td>348465</td>\n",
       "      <td>2.58</td>\n",
       "      <td>0</td>\n",
       "      <td>0</td>\n",
       "      <td>0</td>\n",
       "      <td>0</td>\n",
       "      <td>1</td>\n",
       "      <td>0</td>\n",
       "      <td>0</td>\n",
       "      <td>0</td>\n",
       "      <td>0</td>\n",
       "      <td>1</td>\n",
       "    </tr>\n",
       "    <tr>\n",
       "      <td>27817</td>\n",
       "      <td>1</td>\n",
       "      <td>2762158</td>\n",
       "      <td>2.17</td>\n",
       "      <td>0</td>\n",
       "      <td>0</td>\n",
       "      <td>1</td>\n",
       "      <td>0</td>\n",
       "      <td>0</td>\n",
       "      <td>0</td>\n",
       "      <td>0</td>\n",
       "      <td>1</td>\n",
       "      <td>0</td>\n",
       "      <td>0</td>\n",
       "    </tr>\n",
       "    <tr>\n",
       "      <td>27818</td>\n",
       "      <td>0</td>\n",
       "      <td>2631600</td>\n",
       "      <td>1.67</td>\n",
       "      <td>0</td>\n",
       "      <td>0</td>\n",
       "      <td>1</td>\n",
       "      <td>0</td>\n",
       "      <td>0</td>\n",
       "      <td>0</td>\n",
       "      <td>0</td>\n",
       "      <td>1</td>\n",
       "      <td>0</td>\n",
       "      <td>0</td>\n",
       "    </tr>\n",
       "    <tr>\n",
       "      <td>27819</td>\n",
       "      <td>0</td>\n",
       "      <td>1438935</td>\n",
       "      <td>1.46</td>\n",
       "      <td>0</td>\n",
       "      <td>0</td>\n",
       "      <td>0</td>\n",
       "      <td>1</td>\n",
       "      <td>0</td>\n",
       "      <td>0</td>\n",
       "      <td>0</td>\n",
       "      <td>0</td>\n",
       "      <td>0</td>\n",
       "      <td>0</td>\n",
       "    </tr>\n",
       "  </tbody>\n",
       "</table>\n",
       "<p>27820 rows × 13 columns</p>\n",
       "</div>"
      ],
      "text/plain": [
       "       sex  population  suicides_hk  Age_25-34 years  Age_35-54 years  \\\n",
       "0        1      312900         6.71                0                0   \n",
       "1        1      308000         5.19                0                1   \n",
       "2        0      289700         4.83                0                0   \n",
       "3        1       21800         4.59                0                0   \n",
       "4        1      274300         3.28                1                0   \n",
       "...    ...         ...          ...              ...              ...   \n",
       "27815    0     3620833         2.96                0                1   \n",
       "27816    0      348465         2.58                0                0   \n",
       "27817    1     2762158         2.17                0                0   \n",
       "27818    0     2631600         1.67                0                0   \n",
       "27819    0     1438935         1.46                0                0   \n",
       "\n",
       "       Age_5-14 years  Age_55-74 years  Age_75+ years  Gen_G.I. Generation  \\\n",
       "0                   0                0              0                    0   \n",
       "1                   0                0              0                    0   \n",
       "2                   0                0              0                    0   \n",
       "3                   0                0              1                    1   \n",
       "4                   0                0              0                    0   \n",
       "...               ...              ...            ...                  ...   \n",
       "27815               0                0              0                    0   \n",
       "27816               0                0              1                    0   \n",
       "27817               1                0              0                    0   \n",
       "27818               1                0              0                    0   \n",
       "27819               0                1              0                    0   \n",
       "\n",
       "       Gen_Generation X  Gen_Generation Z  Gen_Millenials  Gen_Silent  \n",
       "0                     1                 0               0           0  \n",
       "1                     0                 0               0           1  \n",
       "2                     1                 0               0           0  \n",
       "3                     0                 0               0           0  \n",
       "4                     0                 0               0           0  \n",
       "...                 ...               ...             ...         ...  \n",
       "27815                 1                 0               0           0  \n",
       "27816                 0                 0               0           1  \n",
       "27817                 0                 1               0           0  \n",
       "27818                 0                 1               0           0  \n",
       "27819                 0                 0               0           0  \n",
       "\n",
       "[27820 rows x 13 columns]"
      ]
     },
     "execution_count": 32,
     "metadata": {},
     "output_type": "execute_result"
    }
   ],
   "source": [
    "X=df.drop([\"suicides_no\"],axis=1)\n",
    "X"
   ]
  },
  {
   "cell_type": "code",
   "execution_count": 33,
   "metadata": {},
   "outputs": [
    {
     "data": {
      "text/plain": [
       "0         21\n",
       "1         16\n",
       "2         14\n",
       "3          1\n",
       "4          9\n",
       "        ... \n",
       "27815    107\n",
       "27816      9\n",
       "27817     60\n",
       "27818     44\n",
       "27819     21\n",
       "Name: suicides_no, Length: 27820, dtype: int32"
      ]
     },
     "execution_count": 33,
     "metadata": {},
     "output_type": "execute_result"
    }
   ],
   "source": [
    "y=df.suicides_no\n",
    "y"
   ]
  },
  {
   "cell_type": "markdown",
   "metadata": {},
   "source": [
    "### Splitting the Input and Output  into training and testing sets:"
   ]
  },
  {
   "cell_type": "code",
   "execution_count": 34,
   "metadata": {},
   "outputs": [],
   "source": [
    "from sklearn.model_selection import train_test_split\n",
    "X_train, X_test, y_train, y_test = train_test_split(X,y, test_size = 0.2, random_state = 0 )"
   ]
  },
  {
   "cell_type": "code",
   "execution_count": 35,
   "metadata": {},
   "outputs": [
    {
     "data": {
      "text/html": [
       "<div>\n",
       "<style scoped>\n",
       "    .dataframe tbody tr th:only-of-type {\n",
       "        vertical-align: middle;\n",
       "    }\n",
       "\n",
       "    .dataframe tbody tr th {\n",
       "        vertical-align: top;\n",
       "    }\n",
       "\n",
       "    .dataframe thead th {\n",
       "        text-align: right;\n",
       "    }\n",
       "</style>\n",
       "<table border=\"1\" class=\"dataframe\">\n",
       "  <thead>\n",
       "    <tr style=\"text-align: right;\">\n",
       "      <th></th>\n",
       "      <th>sex</th>\n",
       "      <th>population</th>\n",
       "      <th>suicides_hk</th>\n",
       "      <th>Age_25-34 years</th>\n",
       "      <th>Age_35-54 years</th>\n",
       "      <th>Age_5-14 years</th>\n",
       "      <th>Age_55-74 years</th>\n",
       "      <th>Age_75+ years</th>\n",
       "      <th>Gen_G.I. Generation</th>\n",
       "      <th>Gen_Generation X</th>\n",
       "      <th>Gen_Generation Z</th>\n",
       "      <th>Gen_Millenials</th>\n",
       "      <th>Gen_Silent</th>\n",
       "    </tr>\n",
       "  </thead>\n",
       "  <tbody>\n",
       "    <tr>\n",
       "      <td>26864</td>\n",
       "      <td>1</td>\n",
       "      <td>19715000</td>\n",
       "      <td>21.69</td>\n",
       "      <td>0</td>\n",
       "      <td>0</td>\n",
       "      <td>0</td>\n",
       "      <td>0</td>\n",
       "      <td>0</td>\n",
       "      <td>0</td>\n",
       "      <td>1</td>\n",
       "      <td>0</td>\n",
       "      <td>0</td>\n",
       "      <td>0</td>\n",
       "    </tr>\n",
       "    <tr>\n",
       "      <td>26120</td>\n",
       "      <td>0</td>\n",
       "      <td>1920400</td>\n",
       "      <td>24.63</td>\n",
       "      <td>0</td>\n",
       "      <td>0</td>\n",
       "      <td>0</td>\n",
       "      <td>0</td>\n",
       "      <td>1</td>\n",
       "      <td>1</td>\n",
       "      <td>0</td>\n",
       "      <td>0</td>\n",
       "      <td>0</td>\n",
       "      <td>0</td>\n",
       "    </tr>\n",
       "    <tr>\n",
       "      <td>7876</td>\n",
       "      <td>1</td>\n",
       "      <td>1241310</td>\n",
       "      <td>8.14</td>\n",
       "      <td>0</td>\n",
       "      <td>1</td>\n",
       "      <td>0</td>\n",
       "      <td>0</td>\n",
       "      <td>0</td>\n",
       "      <td>0</td>\n",
       "      <td>0</td>\n",
       "      <td>0</td>\n",
       "      <td>0</td>\n",
       "      <td>0</td>\n",
       "    </tr>\n",
       "    <tr>\n",
       "      <td>2011</td>\n",
       "      <td>0</td>\n",
       "      <td>567665</td>\n",
       "      <td>5.64</td>\n",
       "      <td>1</td>\n",
       "      <td>0</td>\n",
       "      <td>0</td>\n",
       "      <td>0</td>\n",
       "      <td>0</td>\n",
       "      <td>0</td>\n",
       "      <td>1</td>\n",
       "      <td>0</td>\n",
       "      <td>0</td>\n",
       "      <td>0</td>\n",
       "    </tr>\n",
       "    <tr>\n",
       "      <td>21416</td>\n",
       "      <td>1</td>\n",
       "      <td>11467</td>\n",
       "      <td>17.44</td>\n",
       "      <td>1</td>\n",
       "      <td>0</td>\n",
       "      <td>0</td>\n",
       "      <td>0</td>\n",
       "      <td>0</td>\n",
       "      <td>0</td>\n",
       "      <td>1</td>\n",
       "      <td>0</td>\n",
       "      <td>0</td>\n",
       "      <td>0</td>\n",
       "    </tr>\n",
       "    <tr>\n",
       "      <td>...</td>\n",
       "      <td>...</td>\n",
       "      <td>...</td>\n",
       "      <td>...</td>\n",
       "      <td>...</td>\n",
       "      <td>...</td>\n",
       "      <td>...</td>\n",
       "      <td>...</td>\n",
       "      <td>...</td>\n",
       "      <td>...</td>\n",
       "      <td>...</td>\n",
       "      <td>...</td>\n",
       "      <td>...</td>\n",
       "      <td>...</td>\n",
       "    </tr>\n",
       "    <tr>\n",
       "      <td>13123</td>\n",
       "      <td>1</td>\n",
       "      <td>2873682</td>\n",
       "      <td>0.14</td>\n",
       "      <td>0</td>\n",
       "      <td>0</td>\n",
       "      <td>1</td>\n",
       "      <td>0</td>\n",
       "      <td>0</td>\n",
       "      <td>0</td>\n",
       "      <td>0</td>\n",
       "      <td>1</td>\n",
       "      <td>0</td>\n",
       "      <td>0</td>\n",
       "    </tr>\n",
       "    <tr>\n",
       "      <td>19648</td>\n",
       "      <td>1</td>\n",
       "      <td>665893</td>\n",
       "      <td>8.86</td>\n",
       "      <td>1</td>\n",
       "      <td>0</td>\n",
       "      <td>0</td>\n",
       "      <td>0</td>\n",
       "      <td>0</td>\n",
       "      <td>0</td>\n",
       "      <td>0</td>\n",
       "      <td>0</td>\n",
       "      <td>1</td>\n",
       "      <td>0</td>\n",
       "    </tr>\n",
       "    <tr>\n",
       "      <td>9845</td>\n",
       "      <td>0</td>\n",
       "      <td>4192492</td>\n",
       "      <td>18.22</td>\n",
       "      <td>0</td>\n",
       "      <td>0</td>\n",
       "      <td>0</td>\n",
       "      <td>0</td>\n",
       "      <td>1</td>\n",
       "      <td>0</td>\n",
       "      <td>0</td>\n",
       "      <td>0</td>\n",
       "      <td>0</td>\n",
       "      <td>1</td>\n",
       "    </tr>\n",
       "    <tr>\n",
       "      <td>10799</td>\n",
       "      <td>0</td>\n",
       "      <td>55825</td>\n",
       "      <td>0.00</td>\n",
       "      <td>0</td>\n",
       "      <td>0</td>\n",
       "      <td>0</td>\n",
       "      <td>0</td>\n",
       "      <td>1</td>\n",
       "      <td>1</td>\n",
       "      <td>0</td>\n",
       "      <td>0</td>\n",
       "      <td>0</td>\n",
       "      <td>0</td>\n",
       "    </tr>\n",
       "    <tr>\n",
       "      <td>2732</td>\n",
       "      <td>1</td>\n",
       "      <td>97288</td>\n",
       "      <td>7.20</td>\n",
       "      <td>1</td>\n",
       "      <td>0</td>\n",
       "      <td>0</td>\n",
       "      <td>0</td>\n",
       "      <td>0</td>\n",
       "      <td>0</td>\n",
       "      <td>1</td>\n",
       "      <td>0</td>\n",
       "      <td>0</td>\n",
       "      <td>0</td>\n",
       "    </tr>\n",
       "  </tbody>\n",
       "</table>\n",
       "<p>22256 rows × 13 columns</p>\n",
       "</div>"
      ],
      "text/plain": [
       "       sex  population  suicides_hk  Age_25-34 years  Age_35-54 years  \\\n",
       "26864    1    19715000        21.69                0                0   \n",
       "26120    0     1920400        24.63                0                0   \n",
       "7876     1     1241310         8.14                0                1   \n",
       "2011     0      567665         5.64                1                0   \n",
       "21416    1       11467        17.44                1                0   \n",
       "...    ...         ...          ...              ...              ...   \n",
       "13123    1     2873682         0.14                0                0   \n",
       "19648    1      665893         8.86                1                0   \n",
       "9845     0     4192492        18.22                0                0   \n",
       "10799    0       55825         0.00                0                0   \n",
       "2732     1       97288         7.20                1                0   \n",
       "\n",
       "       Age_5-14 years  Age_55-74 years  Age_75+ years  Gen_G.I. Generation  \\\n",
       "26864               0                0              0                    0   \n",
       "26120               0                0              1                    1   \n",
       "7876                0                0              0                    0   \n",
       "2011                0                0              0                    0   \n",
       "21416               0                0              0                    0   \n",
       "...               ...              ...            ...                  ...   \n",
       "13123               1                0              0                    0   \n",
       "19648               0                0              0                    0   \n",
       "9845                0                0              1                    0   \n",
       "10799               0                0              1                    1   \n",
       "2732                0                0              0                    0   \n",
       "\n",
       "       Gen_Generation X  Gen_Generation Z  Gen_Millenials  Gen_Silent  \n",
       "26864                 1                 0               0           0  \n",
       "26120                 0                 0               0           0  \n",
       "7876                  0                 0               0           0  \n",
       "2011                  1                 0               0           0  \n",
       "21416                 1                 0               0           0  \n",
       "...                 ...               ...             ...         ...  \n",
       "13123                 0                 1               0           0  \n",
       "19648                 0                 0               1           0  \n",
       "9845                  0                 0               0           1  \n",
       "10799                 0                 0               0           0  \n",
       "2732                  1                 0               0           0  \n",
       "\n",
       "[22256 rows x 13 columns]"
      ]
     },
     "execution_count": 35,
     "metadata": {},
     "output_type": "execute_result"
    }
   ],
   "source": [
    "X_train"
   ]
  },
  {
   "cell_type": "code",
   "execution_count": 36,
   "metadata": {},
   "outputs": [
    {
     "data": {
      "text/html": [
       "<div>\n",
       "<style scoped>\n",
       "    .dataframe tbody tr th:only-of-type {\n",
       "        vertical-align: middle;\n",
       "    }\n",
       "\n",
       "    .dataframe tbody tr th {\n",
       "        vertical-align: top;\n",
       "    }\n",
       "\n",
       "    .dataframe thead th {\n",
       "        text-align: right;\n",
       "    }\n",
       "</style>\n",
       "<table border=\"1\" class=\"dataframe\">\n",
       "  <thead>\n",
       "    <tr style=\"text-align: right;\">\n",
       "      <th></th>\n",
       "      <th>sex</th>\n",
       "      <th>population</th>\n",
       "      <th>suicides_hk</th>\n",
       "      <th>Age_25-34 years</th>\n",
       "      <th>Age_35-54 years</th>\n",
       "      <th>Age_5-14 years</th>\n",
       "      <th>Age_55-74 years</th>\n",
       "      <th>Age_75+ years</th>\n",
       "      <th>Gen_G.I. Generation</th>\n",
       "      <th>Gen_Generation X</th>\n",
       "      <th>Gen_Generation Z</th>\n",
       "      <th>Gen_Millenials</th>\n",
       "      <th>Gen_Silent</th>\n",
       "    </tr>\n",
       "  </thead>\n",
       "  <tbody>\n",
       "    <tr>\n",
       "      <td>5820</td>\n",
       "      <td>1</td>\n",
       "      <td>4391802</td>\n",
       "      <td>10.31</td>\n",
       "      <td>0</td>\n",
       "      <td>1</td>\n",
       "      <td>0</td>\n",
       "      <td>0</td>\n",
       "      <td>0</td>\n",
       "      <td>0</td>\n",
       "      <td>0</td>\n",
       "      <td>0</td>\n",
       "      <td>0</td>\n",
       "      <td>0</td>\n",
       "    </tr>\n",
       "    <tr>\n",
       "      <td>23242</td>\n",
       "      <td>1</td>\n",
       "      <td>313295</td>\n",
       "      <td>42.77</td>\n",
       "      <td>0</td>\n",
       "      <td>1</td>\n",
       "      <td>0</td>\n",
       "      <td>0</td>\n",
       "      <td>0</td>\n",
       "      <td>0</td>\n",
       "      <td>1</td>\n",
       "      <td>0</td>\n",
       "      <td>0</td>\n",
       "      <td>0</td>\n",
       "    </tr>\n",
       "    <tr>\n",
       "      <td>25643</td>\n",
       "      <td>0</td>\n",
       "      <td>4301203</td>\n",
       "      <td>0.88</td>\n",
       "      <td>0</td>\n",
       "      <td>0</td>\n",
       "      <td>0</td>\n",
       "      <td>1</td>\n",
       "      <td>0</td>\n",
       "      <td>0</td>\n",
       "      <td>0</td>\n",
       "      <td>0</td>\n",
       "      <td>0</td>\n",
       "      <td>1</td>\n",
       "    </tr>\n",
       "    <tr>\n",
       "      <td>24011</td>\n",
       "      <td>1</td>\n",
       "      <td>1488285</td>\n",
       "      <td>43.67</td>\n",
       "      <td>1</td>\n",
       "      <td>0</td>\n",
       "      <td>0</td>\n",
       "      <td>0</td>\n",
       "      <td>0</td>\n",
       "      <td>0</td>\n",
       "      <td>1</td>\n",
       "      <td>0</td>\n",
       "      <td>0</td>\n",
       "      <td>0</td>\n",
       "    </tr>\n",
       "    <tr>\n",
       "      <td>21706</td>\n",
       "      <td>1</td>\n",
       "      <td>11269</td>\n",
       "      <td>8.87</td>\n",
       "      <td>0</td>\n",
       "      <td>0</td>\n",
       "      <td>0</td>\n",
       "      <td>0</td>\n",
       "      <td>0</td>\n",
       "      <td>0</td>\n",
       "      <td>1</td>\n",
       "      <td>0</td>\n",
       "      <td>0</td>\n",
       "      <td>0</td>\n",
       "    </tr>\n",
       "    <tr>\n",
       "      <td>...</td>\n",
       "      <td>...</td>\n",
       "      <td>...</td>\n",
       "      <td>...</td>\n",
       "      <td>...</td>\n",
       "      <td>...</td>\n",
       "      <td>...</td>\n",
       "      <td>...</td>\n",
       "      <td>...</td>\n",
       "      <td>...</td>\n",
       "      <td>...</td>\n",
       "      <td>...</td>\n",
       "      <td>...</td>\n",
       "      <td>...</td>\n",
       "    </tr>\n",
       "    <tr>\n",
       "      <td>20513</td>\n",
       "      <td>0</td>\n",
       "      <td>8209985</td>\n",
       "      <td>18.27</td>\n",
       "      <td>0</td>\n",
       "      <td>1</td>\n",
       "      <td>0</td>\n",
       "      <td>0</td>\n",
       "      <td>0</td>\n",
       "      <td>0</td>\n",
       "      <td>0</td>\n",
       "      <td>0</td>\n",
       "      <td>0</td>\n",
       "      <td>0</td>\n",
       "    </tr>\n",
       "    <tr>\n",
       "      <td>11907</td>\n",
       "      <td>1</td>\n",
       "      <td>22162</td>\n",
       "      <td>18.05</td>\n",
       "      <td>0</td>\n",
       "      <td>0</td>\n",
       "      <td>0</td>\n",
       "      <td>1</td>\n",
       "      <td>0</td>\n",
       "      <td>0</td>\n",
       "      <td>0</td>\n",
       "      <td>0</td>\n",
       "      <td>0</td>\n",
       "      <td>1</td>\n",
       "    </tr>\n",
       "    <tr>\n",
       "      <td>4857</td>\n",
       "      <td>1</td>\n",
       "      <td>813732</td>\n",
       "      <td>25.68</td>\n",
       "      <td>0</td>\n",
       "      <td>0</td>\n",
       "      <td>0</td>\n",
       "      <td>1</td>\n",
       "      <td>0</td>\n",
       "      <td>0</td>\n",
       "      <td>0</td>\n",
       "      <td>0</td>\n",
       "      <td>0</td>\n",
       "      <td>0</td>\n",
       "    </tr>\n",
       "    <tr>\n",
       "      <td>17793</td>\n",
       "      <td>0</td>\n",
       "      <td>152240</td>\n",
       "      <td>3.28</td>\n",
       "      <td>0</td>\n",
       "      <td>0</td>\n",
       "      <td>0</td>\n",
       "      <td>0</td>\n",
       "      <td>1</td>\n",
       "      <td>0</td>\n",
       "      <td>0</td>\n",
       "      <td>0</td>\n",
       "      <td>0</td>\n",
       "      <td>1</td>\n",
       "    </tr>\n",
       "    <tr>\n",
       "      <td>2230</td>\n",
       "      <td>1</td>\n",
       "      <td>377400</td>\n",
       "      <td>2.12</td>\n",
       "      <td>0</td>\n",
       "      <td>0</td>\n",
       "      <td>0</td>\n",
       "      <td>1</td>\n",
       "      <td>0</td>\n",
       "      <td>0</td>\n",
       "      <td>0</td>\n",
       "      <td>0</td>\n",
       "      <td>0</td>\n",
       "      <td>1</td>\n",
       "    </tr>\n",
       "  </tbody>\n",
       "</table>\n",
       "<p>5564 rows × 13 columns</p>\n",
       "</div>"
      ],
      "text/plain": [
       "       sex  population  suicides_hk  Age_25-34 years  Age_35-54 years  \\\n",
       "5820     1     4391802        10.31                0                1   \n",
       "23242    1      313295        42.77                0                1   \n",
       "25643    0     4301203         0.88                0                0   \n",
       "24011    1     1488285        43.67                1                0   \n",
       "21706    1       11269         8.87                0                0   \n",
       "...    ...         ...          ...              ...              ...   \n",
       "20513    0     8209985        18.27                0                1   \n",
       "11907    1       22162        18.05                0                0   \n",
       "4857     1      813732        25.68                0                0   \n",
       "17793    0      152240         3.28                0                0   \n",
       "2230     1      377400         2.12                0                0   \n",
       "\n",
       "       Age_5-14 years  Age_55-74 years  Age_75+ years  Gen_G.I. Generation  \\\n",
       "5820                0                0              0                    0   \n",
       "23242               0                0              0                    0   \n",
       "25643               0                1              0                    0   \n",
       "24011               0                0              0                    0   \n",
       "21706               0                0              0                    0   \n",
       "...               ...              ...            ...                  ...   \n",
       "20513               0                0              0                    0   \n",
       "11907               0                1              0                    0   \n",
       "4857                0                1              0                    0   \n",
       "17793               0                0              1                    0   \n",
       "2230                0                1              0                    0   \n",
       "\n",
       "       Gen_Generation X  Gen_Generation Z  Gen_Millenials  Gen_Silent  \n",
       "5820                  0                 0               0           0  \n",
       "23242                 1                 0               0           0  \n",
       "25643                 0                 0               0           1  \n",
       "24011                 1                 0               0           0  \n",
       "21706                 1                 0               0           0  \n",
       "...                 ...               ...             ...         ...  \n",
       "20513                 0                 0               0           0  \n",
       "11907                 0                 0               0           1  \n",
       "4857                  0                 0               0           0  \n",
       "17793                 0                 0               0           1  \n",
       "2230                  0                 0               0           1  \n",
       "\n",
       "[5564 rows x 13 columns]"
      ]
     },
     "execution_count": 36,
     "metadata": {},
     "output_type": "execute_result"
    }
   ],
   "source": [
    "X_test"
   ]
  },
  {
   "cell_type": "code",
   "execution_count": 37,
   "metadata": {},
   "outputs": [
    {
     "name": "stdout",
     "output_type": "stream",
     "text": [
      "(22256, 13)\n",
      "(5564, 13)\n",
      "(22256,)\n",
      "(5564,)\n"
     ]
    }
   ],
   "source": [
    "print(X_train.shape)\n",
    "print(X_test.shape)\n",
    "print(y_train.shape)\n",
    "print(y_test.shape)"
   ]
  },
  {
   "cell_type": "markdown",
   "metadata": {},
   "source": [
    "# Model Building : "
   ]
  },
  {
   "cell_type": "markdown",
   "metadata": {},
   "source": [
    "## 1. Linear Regression: "
   ]
  },
  {
   "cell_type": "code",
   "execution_count": 38,
   "metadata": {},
   "outputs": [
    {
     "data": {
      "text/plain": [
       "LinearRegression(copy_X=True, fit_intercept=True, n_jobs=None, normalize=False)"
      ]
     },
     "execution_count": 38,
     "metadata": {},
     "output_type": "execute_result"
    }
   ],
   "source": [
    "from sklearn.linear_model import LinearRegression\n",
    "lm = LinearRegression() # to consider it as a class give paranthesis\n",
    "lm.fit(X_train,y_train)"
   ]
  },
  {
   "cell_type": "code",
   "execution_count": 39,
   "metadata": {},
   "outputs": [
    {
     "data": {
      "text/plain": [
       "array([2912.80483131,  289.98847866,  224.36274346, ...,  548.53240337,\n",
       "       -319.27029888,  -45.06494951])"
      ]
     },
     "execution_count": 39,
     "metadata": {},
     "output_type": "execute_result"
    }
   ],
   "source": [
    "y_pred=lm.predict(X_train)\n",
    "y_pred"
   ]
  },
  {
   "cell_type": "markdown",
   "metadata": {},
   "source": [
    "### Checking accuracy of training data using r2_score:"
   ]
  },
  {
   "cell_type": "code",
   "execution_count": 40,
   "metadata": {},
   "outputs": [
    {
     "data": {
      "text/plain": [
       "0.4682965663756704"
      ]
     },
     "execution_count": 40,
     "metadata": {},
     "output_type": "execute_result"
    }
   ],
   "source": [
    "from sklearn.metrics import r2_score\n",
    "r2_score(y_train,y_pred)"
   ]
  },
  {
   "cell_type": "markdown",
   "metadata": {},
   "source": [
    "### Now predicting and calculating r2_score for testing data:"
   ]
  },
  {
   "cell_type": "code",
   "execution_count": 68,
   "metadata": {},
   "outputs": [
    {
     "data": {
      "text/plain": [
       "array([ 701.49618951,  543.8402748 ,  453.86245958, ...,  382.13329004,\n",
       "       -233.57055147,  -17.78822439])"
      ]
     },
     "execution_count": 68,
     "metadata": {},
     "output_type": "execute_result"
    }
   ],
   "source": [
    "y_predtest=lm.predict(X_test)\n",
    "y_predtest"
   ]
  },
  {
   "cell_type": "code",
   "execution_count": 69,
   "metadata": {},
   "outputs": [
    {
     "data": {
      "text/plain": [
       "0.5210149348104174"
      ]
     },
     "execution_count": 69,
     "metadata": {},
     "output_type": "execute_result"
    }
   ],
   "source": [
    "from sklearn.metrics import r2_score\n",
    "r2_score(y_test,y_predtest)"
   ]
  },
  {
   "cell_type": "markdown",
   "metadata": {},
   "source": [
    "## 2. KNN Regressor :"
   ]
  },
  {
   "cell_type": "markdown",
   "metadata": {},
   "source": [
    "### Scaling the Data:"
   ]
  },
  {
   "cell_type": "code",
   "execution_count": 41,
   "metadata": {},
   "outputs": [
    {
     "data": {
      "text/plain": [
       "array([[ 0.99363992,  4.55345772,  0.46122516, ..., -0.23704073,\n",
       "        -0.51475887, -0.54696001],\n",
       "       [-1.00640079,  0.01998544,  0.61549062, ..., -0.23704073,\n",
       "        -0.51475887, -0.54696001],\n",
       "       [ 0.99363992, -0.15302411, -0.2497602 , ..., -0.23704073,\n",
       "        -0.51475887, -0.54696001],\n",
       "       ...,\n",
       "       [-1.00640079,  0.59883891,  0.27914994, ..., -0.23704073,\n",
       "        -0.51475887,  1.82828722],\n",
       "       [-1.00640079, -0.45504626, -0.67687613, ..., -0.23704073,\n",
       "        -0.51475887, -0.54696001],\n",
       "       [ 0.99363992, -0.44448287, -0.29908317, ..., -0.23704073,\n",
       "        -0.51475887, -0.54696001]])"
      ]
     },
     "execution_count": 41,
     "metadata": {},
     "output_type": "execute_result"
    }
   ],
   "source": [
    "from sklearn.preprocessing import StandardScaler\n",
    "scaler = StandardScaler()\n",
    "\n",
    "scaled_X_train=scaler.fit_transform(X_train)\n",
    "scaled_X_train"
   ]
  },
  {
   "cell_type": "code",
   "execution_count": 42,
   "metadata": {},
   "outputs": [
    {
     "data": {
      "text/html": [
       "<div>\n",
       "<style scoped>\n",
       "    .dataframe tbody tr th:only-of-type {\n",
       "        vertical-align: middle;\n",
       "    }\n",
       "\n",
       "    .dataframe tbody tr th {\n",
       "        vertical-align: top;\n",
       "    }\n",
       "\n",
       "    .dataframe thead th {\n",
       "        text-align: right;\n",
       "    }\n",
       "</style>\n",
       "<table border=\"1\" class=\"dataframe\">\n",
       "  <thead>\n",
       "    <tr style=\"text-align: right;\">\n",
       "      <th></th>\n",
       "      <th>sex</th>\n",
       "      <th>population</th>\n",
       "      <th>suicides_hk</th>\n",
       "      <th>Age_25-34 years</th>\n",
       "      <th>Age_35-54 years</th>\n",
       "      <th>Age_5-14 years</th>\n",
       "      <th>Age_55-74 years</th>\n",
       "      <th>Age_75+ years</th>\n",
       "      <th>Gen_G.I. Generation</th>\n",
       "      <th>Gen_Generation X</th>\n",
       "      <th>Gen_Generation Z</th>\n",
       "      <th>Gen_Millenials</th>\n",
       "      <th>Gen_Silent</th>\n",
       "    </tr>\n",
       "  </thead>\n",
       "  <tbody>\n",
       "    <tr>\n",
       "      <td>0</td>\n",
       "      <td>0.993640</td>\n",
       "      <td>0.649616</td>\n",
       "      <td>-0.135898</td>\n",
       "      <td>-0.448563</td>\n",
       "      <td>2.251503</td>\n",
       "      <td>-0.444293</td>\n",
       "      <td>-0.446755</td>\n",
       "      <td>-0.453109</td>\n",
       "      <td>-0.333699</td>\n",
       "      <td>-0.546059</td>\n",
       "      <td>-0.237041</td>\n",
       "      <td>-0.514759</td>\n",
       "      <td>-0.546960</td>\n",
       "    </tr>\n",
       "    <tr>\n",
       "      <td>1</td>\n",
       "      <td>0.993640</td>\n",
       "      <td>-0.389451</td>\n",
       "      <td>1.567319</td>\n",
       "      <td>-0.448563</td>\n",
       "      <td>2.251503</td>\n",
       "      <td>-0.444293</td>\n",
       "      <td>-0.446755</td>\n",
       "      <td>-0.453109</td>\n",
       "      <td>-0.333699</td>\n",
       "      <td>1.831305</td>\n",
       "      <td>-0.237041</td>\n",
       "      <td>-0.514759</td>\n",
       "      <td>-0.546960</td>\n",
       "    </tr>\n",
       "    <tr>\n",
       "      <td>2</td>\n",
       "      <td>-1.006401</td>\n",
       "      <td>0.626535</td>\n",
       "      <td>-0.630701</td>\n",
       "      <td>-0.448563</td>\n",
       "      <td>-0.444148</td>\n",
       "      <td>-0.444293</td>\n",
       "      <td>2.238361</td>\n",
       "      <td>-0.453109</td>\n",
       "      <td>-0.333699</td>\n",
       "      <td>-0.546059</td>\n",
       "      <td>-0.237041</td>\n",
       "      <td>-0.514759</td>\n",
       "      <td>1.828287</td>\n",
       "    </tr>\n",
       "    <tr>\n",
       "      <td>3</td>\n",
       "      <td>0.993640</td>\n",
       "      <td>-0.090103</td>\n",
       "      <td>1.614543</td>\n",
       "      <td>2.229340</td>\n",
       "      <td>-0.444148</td>\n",
       "      <td>-0.444293</td>\n",
       "      <td>-0.446755</td>\n",
       "      <td>-0.453109</td>\n",
       "      <td>-0.333699</td>\n",
       "      <td>1.831305</td>\n",
       "      <td>-0.237041</td>\n",
       "      <td>-0.514759</td>\n",
       "      <td>-0.546960</td>\n",
       "    </tr>\n",
       "    <tr>\n",
       "      <td>4</td>\n",
       "      <td>0.993640</td>\n",
       "      <td>-0.466398</td>\n",
       "      <td>-0.211456</td>\n",
       "      <td>-0.448563</td>\n",
       "      <td>-0.444148</td>\n",
       "      <td>-0.444293</td>\n",
       "      <td>-0.446755</td>\n",
       "      <td>-0.453109</td>\n",
       "      <td>-0.333699</td>\n",
       "      <td>1.831305</td>\n",
       "      <td>-0.237041</td>\n",
       "      <td>-0.514759</td>\n",
       "      <td>-0.546960</td>\n",
       "    </tr>\n",
       "    <tr>\n",
       "      <td>...</td>\n",
       "      <td>...</td>\n",
       "      <td>...</td>\n",
       "      <td>...</td>\n",
       "      <td>...</td>\n",
       "      <td>...</td>\n",
       "      <td>...</td>\n",
       "      <td>...</td>\n",
       "      <td>...</td>\n",
       "      <td>...</td>\n",
       "      <td>...</td>\n",
       "      <td>...</td>\n",
       "      <td>...</td>\n",
       "      <td>...</td>\n",
       "    </tr>\n",
       "    <tr>\n",
       "      <td>5559</td>\n",
       "      <td>-1.006401</td>\n",
       "      <td>1.622363</td>\n",
       "      <td>0.281774</td>\n",
       "      <td>-0.448563</td>\n",
       "      <td>2.251503</td>\n",
       "      <td>-0.444293</td>\n",
       "      <td>-0.446755</td>\n",
       "      <td>-0.453109</td>\n",
       "      <td>-0.333699</td>\n",
       "      <td>-0.546059</td>\n",
       "      <td>-0.237041</td>\n",
       "      <td>-0.514759</td>\n",
       "      <td>-0.546960</td>\n",
       "    </tr>\n",
       "    <tr>\n",
       "      <td>5560</td>\n",
       "      <td>0.993640</td>\n",
       "      <td>-0.463622</td>\n",
       "      <td>0.270230</td>\n",
       "      <td>-0.448563</td>\n",
       "      <td>-0.444148</td>\n",
       "      <td>-0.444293</td>\n",
       "      <td>2.238361</td>\n",
       "      <td>-0.453109</td>\n",
       "      <td>-0.333699</td>\n",
       "      <td>-0.546059</td>\n",
       "      <td>-0.237041</td>\n",
       "      <td>-0.514759</td>\n",
       "      <td>1.828287</td>\n",
       "    </tr>\n",
       "    <tr>\n",
       "      <td>5561</td>\n",
       "      <td>0.993640</td>\n",
       "      <td>-0.261957</td>\n",
       "      <td>0.670585</td>\n",
       "      <td>-0.448563</td>\n",
       "      <td>-0.444148</td>\n",
       "      <td>-0.444293</td>\n",
       "      <td>2.238361</td>\n",
       "      <td>-0.453109</td>\n",
       "      <td>-0.333699</td>\n",
       "      <td>-0.546059</td>\n",
       "      <td>-0.237041</td>\n",
       "      <td>-0.514759</td>\n",
       "      <td>-0.546960</td>\n",
       "    </tr>\n",
       "    <tr>\n",
       "      <td>5562</td>\n",
       "      <td>-1.006401</td>\n",
       "      <td>-0.430483</td>\n",
       "      <td>-0.504770</td>\n",
       "      <td>-0.448563</td>\n",
       "      <td>-0.444148</td>\n",
       "      <td>-0.444293</td>\n",
       "      <td>-0.446755</td>\n",
       "      <td>2.206977</td>\n",
       "      <td>-0.333699</td>\n",
       "      <td>-0.546059</td>\n",
       "      <td>-0.237041</td>\n",
       "      <td>-0.514759</td>\n",
       "      <td>1.828287</td>\n",
       "    </tr>\n",
       "    <tr>\n",
       "      <td>5563</td>\n",
       "      <td>0.993640</td>\n",
       "      <td>-0.373120</td>\n",
       "      <td>-0.565637</td>\n",
       "      <td>-0.448563</td>\n",
       "      <td>-0.444148</td>\n",
       "      <td>-0.444293</td>\n",
       "      <td>2.238361</td>\n",
       "      <td>-0.453109</td>\n",
       "      <td>-0.333699</td>\n",
       "      <td>-0.546059</td>\n",
       "      <td>-0.237041</td>\n",
       "      <td>-0.514759</td>\n",
       "      <td>1.828287</td>\n",
       "    </tr>\n",
       "  </tbody>\n",
       "</table>\n",
       "<p>5564 rows × 13 columns</p>\n",
       "</div>"
      ],
      "text/plain": [
       "           sex  population  suicides_hk  Age_25-34 years  Age_35-54 years  \\\n",
       "0     0.993640    0.649616    -0.135898        -0.448563         2.251503   \n",
       "1     0.993640   -0.389451     1.567319        -0.448563         2.251503   \n",
       "2    -1.006401    0.626535    -0.630701        -0.448563        -0.444148   \n",
       "3     0.993640   -0.090103     1.614543         2.229340        -0.444148   \n",
       "4     0.993640   -0.466398    -0.211456        -0.448563        -0.444148   \n",
       "...        ...         ...          ...              ...              ...   \n",
       "5559 -1.006401    1.622363     0.281774        -0.448563         2.251503   \n",
       "5560  0.993640   -0.463622     0.270230        -0.448563        -0.444148   \n",
       "5561  0.993640   -0.261957     0.670585        -0.448563        -0.444148   \n",
       "5562 -1.006401   -0.430483    -0.504770        -0.448563        -0.444148   \n",
       "5563  0.993640   -0.373120    -0.565637        -0.448563        -0.444148   \n",
       "\n",
       "      Age_5-14 years  Age_55-74 years  Age_75+ years  Gen_G.I. Generation  \\\n",
       "0          -0.444293        -0.446755      -0.453109            -0.333699   \n",
       "1          -0.444293        -0.446755      -0.453109            -0.333699   \n",
       "2          -0.444293         2.238361      -0.453109            -0.333699   \n",
       "3          -0.444293        -0.446755      -0.453109            -0.333699   \n",
       "4          -0.444293        -0.446755      -0.453109            -0.333699   \n",
       "...              ...              ...            ...                  ...   \n",
       "5559       -0.444293        -0.446755      -0.453109            -0.333699   \n",
       "5560       -0.444293         2.238361      -0.453109            -0.333699   \n",
       "5561       -0.444293         2.238361      -0.453109            -0.333699   \n",
       "5562       -0.444293        -0.446755       2.206977            -0.333699   \n",
       "5563       -0.444293         2.238361      -0.453109            -0.333699   \n",
       "\n",
       "      Gen_Generation X  Gen_Generation Z  Gen_Millenials  Gen_Silent  \n",
       "0            -0.546059         -0.237041       -0.514759   -0.546960  \n",
       "1             1.831305         -0.237041       -0.514759   -0.546960  \n",
       "2            -0.546059         -0.237041       -0.514759    1.828287  \n",
       "3             1.831305         -0.237041       -0.514759   -0.546960  \n",
       "4             1.831305         -0.237041       -0.514759   -0.546960  \n",
       "...                ...               ...             ...         ...  \n",
       "5559         -0.546059         -0.237041       -0.514759   -0.546960  \n",
       "5560         -0.546059         -0.237041       -0.514759    1.828287  \n",
       "5561         -0.546059         -0.237041       -0.514759   -0.546960  \n",
       "5562         -0.546059         -0.237041       -0.514759    1.828287  \n",
       "5563         -0.546059         -0.237041       -0.514759    1.828287  \n",
       "\n",
       "[5564 rows x 13 columns]"
      ]
     },
     "execution_count": 42,
     "metadata": {},
     "output_type": "execute_result"
    }
   ],
   "source": [
    "# scaling for train data we use fit_transform \n",
    "# cuz in fit when it comes to the train it finds mean and variance\n",
    "# based on mean and variance it will apply it to the train data\n",
    "\n",
    "scaled_X_train=pd.DataFrame(scaler.fit_transform(X_train),\n",
    "                            columns=X_train.columns)\n",
    "scaled_X_train\n",
    "\n",
    "# scaling for test data and for test we should only use transform\n",
    "# cuz in fit when it comes to the train it finds mean and variance\n",
    "# based on mean and variance it will apply it to the train data\n",
    "\n",
    "scaled_X_test=pd.DataFrame(scaler.transform(X_test),\n",
    "                            columns=X_train.columns)\n",
    "scaled_X_test"
   ]
  },
  {
   "cell_type": "markdown",
   "metadata": {},
   "source": [
    "### Model Building for KNN :"
   ]
  },
  {
   "cell_type": "code",
   "execution_count": 43,
   "metadata": {
    "scrolled": true
   },
   "outputs": [
    {
     "data": {
      "text/plain": [
       "KNeighborsRegressor(algorithm='auto', leaf_size=30, metric='euclidean',\n",
       "                    metric_params=None, n_jobs=None, n_neighbors=3, p=2,\n",
       "                    weights='uniform')"
      ]
     },
     "execution_count": 43,
     "metadata": {},
     "output_type": "execute_result"
    }
   ],
   "source": [
    "from sklearn.neighbors import KNeighborsRegressor\n",
    "knn=KNeighborsRegressor(n_neighbors=3,metric=\"euclidean\")\n",
    "# applying on the the data set\n",
    "knn.fit(scaled_X_train,y_train)"
   ]
  },
  {
   "cell_type": "code",
   "execution_count": 44,
   "metadata": {},
   "outputs": [
    {
     "data": {
      "text/plain": [
       "array([4234.33333333,  466.66666667,  102.66666667, ...,  761.        ,\n",
       "          0.        ,    5.33333333])"
      ]
     },
     "execution_count": 44,
     "metadata": {},
     "output_type": "execute_result"
    }
   ],
   "source": [
    "# predictions on the data\n",
    "# predict function\n",
    "# syntax objectname.predict(input)\n",
    "y_train_predict=knn.predict(scaled_X_train)\n",
    "y_train_predict"
   ]
  },
  {
   "cell_type": "markdown",
   "metadata": {},
   "source": [
    "### Calculating the metrics for training data:"
   ]
  },
  {
   "cell_type": "markdown",
   "metadata": {},
   "source": [
    "## Error Metrics:\n",
    " - MAE - Mean Absolute Error\n",
    " - MSE - Mean Squared Error\n",
    " - RMSE - Root Mean Squared Error"
   ]
  },
  {
   "cell_type": "code",
   "execution_count": 45,
   "metadata": {},
   "outputs": [
    {
     "name": "stdout",
     "output_type": "stream",
     "text": [
      "R^2: 0.997424078922969\n",
      "Adjusted R^2: 0.9974225733490997\n",
      "MAE 10.607461658279416\n",
      "MSE 2239.6723829778743\n",
      "RMSE 47.325177051732986\n"
     ]
    }
   ],
   "source": [
    "print('R^2:', r2_score(y_train,y_train_predict))\n",
    "print('Adjusted R^2:', 1- (1-r2_score(y_train, y_train_predict))*(len(scaled_X_train)-1)/\n",
    "                                  (len(scaled_X_train)-scaled_X_train.shape[1]-1))\n",
    "print(\"MAE\",mean_absolute_error(y_train,y_train_predict))\n",
    "\n",
    "print(\"MSE\",mean_squared_error(y_train,y_train_predict))\n",
    "\n",
    "print(\"RMSE\",np.sqrt(mean_squared_error(y_train,y_train_predict)))"
   ]
  },
  {
   "cell_type": "code",
   "execution_count": 46,
   "metadata": {},
   "outputs": [
    {
     "data": {
      "text/plain": [
       "<matplotlib.axes._subplots.AxesSubplot at 0x1badab167f0>"
      ]
     },
     "execution_count": 46,
     "metadata": {},
     "output_type": "execute_result"
    },
    {
     "data": {
      "image/png": "[encoded data removed]",
      "text/plain": [
       "<Figure size 432x288 with 1 Axes>"
      ]
     },
     "metadata": {
      "needs_background": "light"
     },
     "output_type": "display_data"
    }
   ],
   "source": [
    "## regplot(y_train --> actual values adn y_train_pred )\n",
    "sns.regplot(y_train,y_train_predict)"
   ]
  },
  {
   "cell_type": "markdown",
   "metadata": {},
   "source": [
    "### Now Predicting on testing data:"
   ]
  },
  {
   "cell_type": "code",
   "execution_count": 47,
   "metadata": {},
   "outputs": [
    {
     "data": {
      "text/plain": [
       "array([450.66666667, 118.66666667,  45.33333333, ..., 211.66666667,\n",
       "         5.        ,   8.33333333])"
      ]
     },
     "execution_count": 47,
     "metadata": {},
     "output_type": "execute_result"
    }
   ],
   "source": [
    "## Test the model on testing data\n",
    "y_test_predict =knn.predict(scaled_X_test) # test data-- unseen data\n",
    "y_test_predict"
   ]
  },
  {
   "cell_type": "markdown",
   "metadata": {},
   "source": [
    "### Calculating the metrics for Testing data: "
   ]
  },
  {
   "cell_type": "code",
   "execution_count": 48,
   "metadata": {},
   "outputs": [
    {
     "name": "stdout",
     "output_type": "stream",
     "text": [
      "R^2: 0.9901550415238197\n",
      "Adjusted R^2: 0.9901319812607223\n",
      "MAE 17.510603882099208\n",
      "MSE 5811.543553798228\n",
      "RMSE 76.23348053052692\n"
     ]
    }
   ],
   "source": [
    "## we need to compare the actual values(y_test) and predicted values(y_test_pred)\n",
    "from sklearn.metrics import r2_score,mean_absolute_error,mean_squared_error\n",
    "\n",
    "print('R^2:', r2_score(y_test,y_test_predict))\n",
    "\n",
    "print('Adjusted R^2:', 1- (1-r2_score(y_test, y_test_predict))*(len(scaled_X_test)-1)/\n",
    "                                  (len(scaled_X_test)-scaled_X_test.shape[1]-1))\n",
    "\n",
    "print(\"MAE\",mean_absolute_error(y_test,y_test_predict))\n",
    "\n",
    "print(\"MSE\",mean_squared_error(y_test,y_test_predict))\n",
    "\n",
    "print(\"RMSE\",np.sqrt(mean_squared_error(y_test,y_test_predict)))"
   ]
  },
  {
   "cell_type": "markdown",
   "metadata": {},
   "source": [
    "### Choosing which K value will give more accuracy score:"
   ]
  },
  {
   "cell_type": "code",
   "execution_count": 49,
   "metadata": {},
   "outputs": [
    {
     "data": {
      "text/plain": [
       "[0.9952600229474291,\n",
       " 0.9949236985329581,\n",
       " 0.9901550415238197,\n",
       " 0.9869422611280094,\n",
       " 0.9832721545031687,\n",
       " 0.9786178978078205,\n",
       " 0.9719673331113022,\n",
       " 0.9694582993086969,\n",
       " 0.9622053533832136,\n",
       " 0.9565847475681516,\n",
       " 0.9560373574604122,\n",
       " 0.9528062213082739,\n",
       " 0.9497748707712066,\n",
       " 0.9440359997611577,\n",
       " 0.9382935614107898,\n",
       " 0.9329280190402246,\n",
       " 0.9272256470134019,\n",
       " 0.9214829377799609,\n",
       " 0.914574051345229]"
      ]
     },
     "execution_count": 49,
     "metadata": {},
     "output_type": "execute_result"
    }
   ],
   "source": [
    "scores=[]\n",
    "# checking for optimum k value\n",
    "# building the model with multiple k values\n",
    "for k in range(1,20):\n",
    "    knn_model=KNeighborsRegressor(n_neighbors=k)\n",
    "    knn_model.fit(scaled_X_train,y_train)\n",
    "    pred_test=knn_model.predict(scaled_X_test)\n",
    "    scores.append(r2_score(y_test,pred_test))\n",
    "scores"
   ]
  },
  {
   "cell_type": "code",
   "execution_count": 50,
   "metadata": {},
   "outputs": [
    {
     "data": {
      "text/plain": [
       "[<matplotlib.lines.Line2D at 0x1bada93d0b8>]"
      ]
     },
     "execution_count": 50,
     "metadata": {},
     "output_type": "execute_result"
    },
    {
     "data": {
      "image/png": "[encoded data removed]",
      "text/plain": [
       "<Figure size 432x288 with 1 Axes>"
      ]
     },
     "metadata": {
      "needs_background": "light"
     },
     "output_type": "display_data"
    }
   ],
   "source": [
    "# plot of k-values and scores\n",
    "plt.plot(range(1,20),scores,marker='o',markerfacecolor=\"r\",linestyle=\"--\")"
   ]
  },
  {
   "cell_type": "code",
   "execution_count": 51,
   "metadata": {},
   "outputs": [
    {
     "data": {
      "text/plain": [
       "KNeighborsRegressor(algorithm='auto', leaf_size=30, metric='euclidean',\n",
       "                    metric_params=None, n_jobs=None, n_neighbors=2, p=2,\n",
       "                    weights='uniform')"
      ]
     },
     "execution_count": 51,
     "metadata": {},
     "output_type": "execute_result"
    }
   ],
   "source": [
    "# optimun k value is 2\n",
    "final_model=KNeighborsRegressor(n_neighbors=2,metric=\"euclidean\")\n",
    "final_model.fit(scaled_X_train,y_train)"
   ]
  },
  {
   "cell_type": "code",
   "execution_count": 52,
   "metadata": {},
   "outputs": [
    {
     "data": {
      "text/plain": [
       "array([4271.5,  474.5,  104.5, ...,  768.5,    0. ,    5.5])"
      ]
     },
     "execution_count": 52,
     "metadata": {},
     "output_type": "execute_result"
    }
   ],
   "source": [
    "# predicting on the training data\n",
    "final_train_predict=final_model.predict(scaled_X_train)\n",
    "final_train_predict"
   ]
  },
  {
   "cell_type": "markdown",
   "metadata": {},
   "source": [
    "### Calculating the metrics for training data of Final Model : "
   ]
  },
  {
   "cell_type": "code",
   "execution_count": 53,
   "metadata": {},
   "outputs": [
    {
     "name": "stdout",
     "output_type": "stream",
     "text": [
      "R^2: 0.9987914456393199\n",
      "Adjusted R^2: 0.9987907392636932\n"
     ]
    }
   ],
   "source": [
    "print('R^2:', r2_score(y_train,final_train_predict))\n",
    "print('Adjusted R^2:', 1- (1-r2_score(y_train, final_train_predict))*(len(scaled_X_train)-1)/\n",
    "                                  (len(scaled_X_train)-scaled_X_train.shape[1]-1))"
   ]
  },
  {
   "cell_type": "code",
   "execution_count": 54,
   "metadata": {},
   "outputs": [
    {
     "data": {
      "text/plain": [
       "<matplotlib.axes._subplots.AxesSubplot at 0x1bada90d5c0>"
      ]
     },
     "execution_count": 54,
     "metadata": {},
     "output_type": "execute_result"
    },
    {
     "data": {
      "image/png": "[encoded data removed]",
      "text/plain": [
       "<Figure size 432x288 with 1 Axes>"
      ]
     },
     "metadata": {
      "needs_background": "light"
     },
     "output_type": "display_data"
    }
   ],
   "source": [
    "## regplot(y_train --> actual values adn y_train_pred )\n",
    "sns.regplot(y_train,final_train_predict)"
   ]
  },
  {
   "cell_type": "code",
   "execution_count": 55,
   "metadata": {},
   "outputs": [
    {
     "data": {
      "text/plain": [
       "array([489. , 117.5,  45. , ..., 239. ,   5. ,   8.5])"
      ]
     },
     "execution_count": 55,
     "metadata": {},
     "output_type": "execute_result"
    }
   ],
   "source": [
    "## Test the model on testing data\n",
    "final_test_predict =final_model.predict(scaled_X_test) # test data-- unseen data\n",
    "final_test_predict"
   ]
  },
  {
   "cell_type": "markdown",
   "metadata": {},
   "source": [
    "### Calculating the metrics for testing data of Final Model :"
   ]
  },
  {
   "cell_type": "code",
   "execution_count": 56,
   "metadata": {},
   "outputs": [
    {
     "name": "stdout",
     "output_type": "stream",
     "text": [
      "R^2: 0.9949236985329581\n",
      "Adjusted R^2: 0.9949118080970893\n",
      "MAE 14.634615384615385\n",
      "MSE 2996.5740474478794\n",
      "RMSE 54.74097229176588\n"
     ]
    }
   ],
   "source": [
    "## we need to compare the actual values(y_test) and predicted values(y_test_pred)\n",
    "print('R^2:', r2_score(y_test,final_test_predict))\n",
    "\n",
    "print('Adjusted R^2:', 1- (1-r2_score(y_test, final_test_predict))*(len(scaled_X_test)-1)/\n",
    "                                  (len(scaled_X_test)-scaled_X_test.shape[1]-1))\n",
    "\n",
    "print(\"MAE\",mean_absolute_error(y_test,final_test_predict))\n",
    "\n",
    "print(\"MSE\",mean_squared_error(y_test,final_test_predict))\n",
    "\n",
    "print(\"RMSE\",np.sqrt(mean_squared_error(y_test,final_test_predict)))"
   ]
  },
  {
   "cell_type": "markdown",
   "metadata": {},
   "source": [
    "## 3. Random Forest Regressor:"
   ]
  },
  {
   "cell_type": "code",
   "execution_count": 57,
   "metadata": {},
   "outputs": [
    {
     "data": {
      "text/plain": [
       "RandomForestRegressor(bootstrap=True, criterion='mse', max_depth=None,\n",
       "                      max_features='auto', max_leaf_nodes=None,\n",
       "                      min_impurity_decrease=0.0, min_impurity_split=None,\n",
       "                      min_samples_leaf=1, min_samples_split=2,\n",
       "                      min_weight_fraction_leaf=0.0, n_estimators=40,\n",
       "                      n_jobs=None, oob_score=False, random_state=None,\n",
       "                      verbose=0, warm_start=False)"
      ]
     },
     "execution_count": 57,
     "metadata": {},
     "output_type": "execute_result"
    }
   ],
   "source": [
    "#import,initialize,fit\n",
    "\n",
    "#importing\n",
    "from sklearn.ensemble import RandomForestRegressor\n",
    "\n",
    "#create an object for this\n",
    "rfr = RandomForestRegressor(n_estimators=40)\n",
    "#n_estimators-> Builds 40 dtrees\n",
    "\n",
    "#Fit the random forest classifier to the training data\n",
    "rfr.fit(X_train,y_train)"
   ]
  },
  {
   "cell_type": "code",
   "execution_count": 58,
   "metadata": {},
   "outputs": [],
   "source": [
    "y_pred_train = rfr.predict(X_train)"
   ]
  },
  {
   "cell_type": "markdown",
   "metadata": {},
   "source": [
    "### Calculating r2_score for training data:"
   ]
  },
  {
   "cell_type": "code",
   "execution_count": 59,
   "metadata": {},
   "outputs": [
    {
     "data": {
      "text/plain": [
       "0.9996278524822058"
      ]
     },
     "execution_count": 59,
     "metadata": {},
     "output_type": "execute_result"
    }
   ],
   "source": [
    "r2_score(y_train,y_pred_train)"
   ]
  },
  {
   "cell_type": "code",
   "execution_count": 60,
   "metadata": {},
   "outputs": [],
   "source": [
    "y_pred_test = rfr.predict(X_test)"
   ]
  },
  {
   "cell_type": "markdown",
   "metadata": {},
   "source": [
    "### Calculating r2_score for testing data:"
   ]
  },
  {
   "cell_type": "code",
   "execution_count": 61,
   "metadata": {},
   "outputs": [
    {
     "data": {
      "text/plain": [
       "0.9986249859145168"
      ]
     },
     "execution_count": 61,
     "metadata": {},
     "output_type": "execute_result"
    }
   ],
   "source": [
    "r2_score(y_test,y_pred_test)"
   ]
  },
  {
   "cell_type": "markdown",
   "metadata": {},
   "source": [
    "### DIDN'T USE ANY GridSearchCV and HyperParameter Tuning because the r2 score is already 99.8%"
   ]
  },
  {
   "cell_type": "markdown",
   "metadata": {},
   "source": [
    "## Visualizing the every model's r2_scores."
   ]
  },
  {
   "cell_type": "markdown",
   "metadata": {},
   "source": [
    "### For Train r2_score"
   ]
  },
  {
   "cell_type": "code",
   "execution_count": 71,
   "metadata": {},
   "outputs": [
    {
     "data": {
      "image/png": "[encoded data removed]",
      "text/plain": [
       "<Figure size 432x288 with 1 Axes>"
      ]
     },
     "metadata": {
      "needs_background": "light"
     },
     "output_type": "display_data"
    }
   ],
   "source": [
    "model=['LR','KNNR','RFR']\n",
    "r2 = [0.4682965663756704,0.9987914456393199,0.9996278524822058]\n",
    "plt.bar(model,r2,color='green')\n",
    "plt.title(\"Visualizing r2 scores for model's training data\")\n",
    "plt.xlabel('models used')\n",
    "plt.ylabel('r2 score')\n",
    "plt.show()"
   ]
  },
  {
   "cell_type": "markdown",
   "metadata": {},
   "source": [
    "### For Testing r2_score:"
   ]
  },
  {
   "cell_type": "code",
   "execution_count": 72,
   "metadata": {},
   "outputs": [
    {
     "data": {
      "image/png": "[encoded data removed]",
      "text/plain": [
       "<Figure size 432x288 with 1 Axes>"
      ]
     },
     "metadata": {
      "needs_background": "light"
     },
     "output_type": "display_data"
    }
   ],
   "source": [
    "model=['LR','KNNR','RFR']\n",
    "r2 = [0.5210149348104174,0.9949236985329581,0.9986249859145168]\n",
    "plt.bar(model,r2,color='green')\n",
    "plt.title(\"Visualizing r2 scores for model's training data\")\n",
    "plt.xlabel('models used')\n",
    "plt.ylabel('r2 score')\n",
    "plt.show()"
   ]
  },
  {
   "cell_type": "markdown",
   "metadata": {},
   "source": [
    "### Predicting using Random Forest Because it gave the highest r2_score:"
   ]
  },
  {
   "cell_type": "markdown",
   "metadata": {},
   "source": [
    "#### Using dataframe values:"
   ]
  },
  {
   "cell_type": "code",
   "execution_count": 62,
   "metadata": {},
   "outputs": [
    {
     "name": "stdout",
     "output_type": "stream",
     "text": [
      "[6.]\n"
     ]
    }
   ],
   "source": [
    "print(rfr.predict([[0,278800,2.15,0,1,0,0,0,0,0,0,0,1]]))"
   ]
  },
  {
   "cell_type": "code",
   "execution_count": 63,
   "metadata": {},
   "outputs": [
    {
     "name": "stdout",
     "output_type": "stream",
     "text": [
      "[1.]\n"
     ]
    }
   ],
   "source": [
    "print(rfr.predict([[1,21800,4.59,0,0,0,0,1,1,0,0,0,0]]))"
   ]
  },
  {
   "cell_type": "code",
   "execution_count": 64,
   "metadata": {},
   "outputs": [
    {
     "name": "stdout",
     "output_type": "stream",
     "text": [
      "[14.025]\n"
     ]
    }
   ],
   "source": [
    "print(rfr.predict([[0,289700,4.83,0,0,0,0,0,0,1,0,0,0]]))"
   ]
  },
  {
   "cell_type": "markdown",
   "metadata": {},
   "source": [
    "#### Using Random values which are not in the dataframe:"
   ]
  },
  {
   "cell_type": "code",
   "execution_count": 65,
   "metadata": {},
   "outputs": [
    {
     "name": "stdout",
     "output_type": "stream",
     "text": [
      "[2.25]\n"
     ]
    }
   ],
   "source": [
    "print(rfr.predict([[1,20645,11.0,0,1,0,0,0,0,0,0,0,1]]))"
   ]
  },
  {
   "cell_type": "code",
   "execution_count": 66,
   "metadata": {},
   "outputs": [
    {
     "name": "stdout",
     "output_type": "stream",
     "text": [
      "[4.375]\n"
     ]
    }
   ],
   "source": [
    "print(rfr.predict([[0,21945,19.0,0,0,1,0,0,0,1,0,0,0]]))"
   ]
  },
  {
   "cell_type": "code",
   "execution_count": 67,
   "metadata": {},
   "outputs": [
    {
     "name": "stdout",
     "output_type": "stream",
     "text": [
      "[2.]\n"
     ]
    }
   ],
   "source": [
    "print(rfr.predict([[1,22095,9.0,0,0,1,0,0,0,0,1,0,0]]))"
   ]
  },
  {
   "cell_type": "code",
   "execution_count": null,
   "metadata": {},
   "outputs": [],
   "source": []
  }
 ],
 "metadata": {
  "kernelspec": {
   "display_name": "Python 3",
   "language": "python",
   "name": "python3"
  },
  "language_info": {
   "codemirror_mode": {
    "name": "ipython",
    "version": 3
   },
   "file_extension": ".py",
   "mimetype": "text/x-python",
   "name": "python",
   "nbconvert_exporter": "python",
   "pygments_lexer": "ipython3",
   "version": "3.7.3"
  }
 },
 "nbformat": 4,
 "nbformat_minor": 2
}
